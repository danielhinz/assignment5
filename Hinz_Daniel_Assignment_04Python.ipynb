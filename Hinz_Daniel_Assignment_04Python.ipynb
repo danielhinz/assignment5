{
 "cells": [
  {
   "cell_type": "markdown",
   "metadata": {},
   "source": [
    "\n",
    "# DS400: Assignment 5 (Python)\n",
    "\n",
    "##### Daniel Hinz (Student ID: 6302371)\n",
    "##### January 25 2023"
   ]
  },
  {
   "cell_type": "markdown",
   "metadata": {},
   "source": [
    "## Preprocessing"
   ]
  },
  {
   "cell_type": "markdown",
   "metadata": {},
   "source": [
    "(1) In the folder data you will find the original images. Each image is labeled as either pizza or no pizza.\n",
    "Apply the pipeline below and export to csv."
   ]
  },
  {
   "cell_type": "code",
   "execution_count": 3,
   "metadata": {},
   "outputs": [],
   "source": [
    "# Imports\n",
    "import os\n",
    "import numpy as np\n",
    "import pandas as pd\n",
    "import requests\n",
    "import time\n",
    "\n"
   ]
  },
  {
   "cell_type": "code",
   "execution_count": 4,
   "metadata": {},
   "outputs": [],
   "source": [
    "# set directory\n",
    "os.chdir(\"D:/Dokumente/Studium/Master_DataScience/Assignment5\")"
   ]
  },
  {
   "cell_type": "code",
   "execution_count": 5,
   "metadata": {},
   "outputs": [
    {
     "name": "stdout",
     "output_type": "stream",
     "text": [
      "{'_embedded': {'venues': [{'name': 'Grosse Freiheit 36', 'type': 'venue', 'id': 'KovZpZAn6vEA', 'test': False, 'url': 'http://www.ticketmaster.de/venue/287636', 'locale': 'en-de', 'images': [{'ratio': '16_9', 'url': 'https://s1.ticketm.net/dbimages/962v.', 'width': 205, 'height': 115, 'fallback': False}], 'postalCode': '22767', 'timezone': 'Europe/Berlin', 'city': {'name': 'Hamburg'}, 'country': {'name': 'Germany', 'countryCode': 'DE'}, 'address': {'line1': 'Grosse Freiheit 36'}, 'location': {'longitude': '9.957905', 'latitude': '53.551187'}, 'markets': [{'name': 'Germany', 'id': '210'}], 'dmas': [{'id': 610}], 'boxOfficeInfo': {'phoneNumberDetail': 'Telefon tagsüber: (040) 31 77 78- 0 Große Freiheit 36 22767 Hamburg E-Mail: info@grossefreiheit36.de'}, 'upcomingEvents': {'_total': 1, 'mfx-de': 1, '_filtered': 0}, 'ada': {'adaPhones': '+49.(0)1805 - 969 0000 (14 Ct./Min.)', 'adaCustomCopy': 'Sollten Sie besondere Sitzplatzwünsche haben, prüfen Sie bitte die Informationsseite des Veranstaltungsortes. Für weitergehende Informationen steht Ihnen unsere Hotline unter +49.(0)1805 - 969 0000 (14 Ct./Min.) zur Verfügung.', 'adaHours': 'Montag bis Freitag, in der Zeit von 9.00-19.00 Uhr sowie sonnabends von 10.00-18.00 Uhr zur Verfügung.'}, '_links': {'self': {'href': '/discovery/v2/venues/KovZpZAn6vEA?locale=en-de'}}}, {'name': 'Gruenspan', 'type': 'venue', 'id': 'KovZpZAneakA', 'test': False, 'url': 'http://www.ticketmaster.de/venue/287155', 'locale': 'en-de', 'images': [{'ratio': '16_9', 'url': 'https://s1.ticketm.net/dbimages/2057v.', 'width': 205, 'height': 115, 'fallback': False}], 'postalCode': '22767', 'timezone': 'Europe/Berlin', 'city': {'name': 'Hamburg'}, 'country': {'name': 'Germany', 'countryCode': 'DE'}, 'address': {'line1': 'Grosse Freiheit 58'}, 'location': {'longitude': '9.958075', 'latitude': '53.551885'}, 'markets': [{'name': 'Germany', 'id': '210'}], 'dmas': [{'id': 610}], 'boxOfficeInfo': {'phoneNumberDetail': 'Gruenspan Große Freiheit 58 22767 Hamburg Tel: 040-313616 mail: info@gruenspan.de web: www.gruenspan.de'}, 'upcomingEvents': {'_total': 2, 'mfx-de': 2, '_filtered': 0}, 'ada': {'adaPhones': '+49.(0)1805 - 969 0000 (14 Ct./Min.)', 'adaCustomCopy': 'Sollten Sie besondere Sitzplatzwünsche haben, prüfen Sie bitte die Informationsseite des Veranstaltungsortes. Für weitergehende Informationen steht Ihnen unsere Hotline unter +49.(0)1805 - 969 0000 (14 Ct./Min.) zur Verfügung.', 'adaHours': 'Montag bis Freitag, in der Zeit von 9.00-19.00 Uhr sowie sonnabends von 10.00-18.00 Uhr zur Verfügung.'}, '_links': {'self': {'href': '/discovery/v2/venues/KovZpZAneakA?locale=en-de'}}}, {'name': 'Huxleys Neue Welt', 'type': 'venue', 'id': 'KovZpZAtnIJA', 'test': False, 'url': 'http://www.ticketmaster.de/venue/286842', 'locale': 'en-de', 'images': [{'ratio': '16_9', 'url': 'https://s1.ticketm.net/dbimages/2146v.jpg', 'width': 205, 'height': 115, 'fallback': False}], 'postalCode': '10967', 'timezone': 'Europe/Berlin', 'city': {'name': 'Berlin'}, 'country': {'name': 'Germany', 'countryCode': 'DE'}, 'address': {'line1': 'Hasenheide 107 – 113'}, 'location': {'longitude': '13.42138', 'latitude': '52.486391'}, 'markets': [{'name': 'Germany', 'id': '210'}], 'dmas': [{'id': 610}], 'boxOfficeInfo': {'phoneNumberDetail': 'Huxleys Neue Welt Hasenheide 107-113 10967 Berlin Neukölln Tel 030 621 10 28'}, 'upcomingEvents': {'_total': 10, 'mfx-de': 10, '_filtered': 0}, 'ada': {'adaPhones': '+49.(0)1805 - 969 0000 (14 Ct./Min.)', 'adaCustomCopy': 'Sollten Sie besondere Sitzplatzwünsche haben, prüfen Sie bitte die Informationsseite des Veranstaltungsortes. Für weitergehende Informationen steht Ihnen unsere Hotline unter +49.(0)1805 - 969 0000 (14 Ct./Min.) zur Verfügung.', 'adaHours': 'Montag bis Freitag, in der Zeit von 9.00-19.00 Uhr sowie sonnabends von 10.00-18.00 Uhr zur Verfügung.'}, '_links': {'self': {'href': '/discovery/v2/venues/KovZpZAtnIJA?locale=en-de'}}}, {'name': 'Virtual Event', 'type': 'venue', 'id': 'Z698xZC2ZaFZh', 'test': False, 'url': 'https://www.ticketmaster.de/venue/virtuelles-event-weltweit-tickets/zzzvirtuel/706', 'locale': 'en-us', 'timezone': 'Europe/Berlin', 'city': {'name': 'Worldwide'}, 'country': {'name': 'Germany', 'countryCode': 'DE'}, 'location': {'longitude': '10.0', 'latitude': '50.0'}, 'upcomingEvents': {'_total': 6, 'mfx-de': 6, '_filtered': 0}, '_links': {'self': {'href': '/discovery/v2/venues/Z698xZC2ZaFZh?locale=en-us'}}}, {'name': 'Ev. St. Jacobi Kirche', 'type': 'venue', 'id': 'KovZ9177aS7', 'test': False, 'url': 'http://www.ticketmaster.de/venue/290061', 'locale': 'en-de', 'postalCode': '06526', 'timezone': 'Europe/Berlin', 'city': {'name': 'Sangerhausen'}, 'country': {'name': 'Germany', 'countryCode': 'DE'}, 'address': {'line1': 'Marktplatz'}, 'markets': [{'name': 'Germany', 'id': '210'}], 'dmas': [{'id': 610}], 'upcomingEvents': {'_total': 0, '_filtered': 0}, 'ada': {'adaPhones': '+49.(0)1805 - 969 0000 (14 Ct./Min.)', 'adaCustomCopy': 'For special seating needs, please check the venue information page for details. Should you require further information please call the Hotline on +49.(0)1805 - 969 0000 (14 Ct./Min.)', 'adaHours': 'Monday to Friday, 9:00-19.00; Saturday, 10.00-14.00'}, '_links': {'self': {'href': '/discovery/v2/venues/KovZ9177aS7?locale=en-de'}}}, {'name': 'Evangelische Kirche', 'type': 'venue', 'id': 'KovZ9177aSf', 'test': False, 'url': 'http://www.ticketmaster.de/venue/290066', 'locale': 'en-de', 'postalCode': '48308', 'timezone': 'Europe/Berlin', 'city': {'name': 'Senden'}, 'country': {'name': 'Germany', 'countryCode': 'DE'}, 'address': {'line1': 'Steverstrasse 5'}, 'markets': [{'name': 'Germany', 'id': '210'}], 'dmas': [{'id': 610}], 'upcomingEvents': {'_total': 0, '_filtered': 0}, 'ada': {'adaPhones': '+49.(0)1805 - 969 0000 (14 Ct./Min.)', 'adaCustomCopy': 'For special seating needs, please check the venue information page for details. Should you require further information please call the Hotline on +49.(0)1805 - 969 0000 (14 Ct./Min.)', 'adaHours': 'Monday to Friday, 9:00-19.00; Saturday, 10.00-14.00'}, '_links': {'self': {'href': '/discovery/v2/venues/KovZ9177aSf?locale=en-de'}}}, {'name': 'HDI Arena', 'type': 'venue', 'id': 'KovZ917A5f0', 'test': False, 'url': 'http://www.ticketmaster.de/venue/461692', 'locale': 'en-de', 'timezone': 'Europe/Berlin', 'city': {'name': 'Hannover'}, 'country': {'name': 'Germany', 'countryCode': 'DE'}, 'address': {'line1': 'Robert-Enke-Straße 1', 'line2': '30169 Hannover, Germany'}, 'location': {'longitude': '9.73371', 'latitude': '52.361993'}, 'markets': [{'name': 'All of United Kingdom', 'id': '201'}, {'name': 'Ireland', 'id': '208'}], 'dmas': [{'id': 601}, {'id': 608}], 'upcomingEvents': {'_total': 0, '_filtered': 0}, '_links': {'self': {'href': '/discovery/v2/venues/KovZ917A5f0?locale=en-de'}}}, {'name': 'Arsenal', 'type': 'venue', 'id': 'KovZpZAl111A', 'test': False, 'url': 'http://www.ticketmaster.de/venue/290646', 'locale': 'en-de', 'postalCode': '10785', 'timezone': 'Europe/Berlin', 'city': {'name': 'Berlin'}, 'country': {'name': 'Germany', 'countryCode': 'DE'}, 'address': {'line1': 'Potsdamer Strasse 2'}, 'markets': [{'name': 'Germany', 'id': '210'}], 'dmas': [{'id': 610}], 'upcomingEvents': {'_total': 0, '_filtered': 0}, 'ada': {'adaPhones': '+49.(0)1805 - 969 0000 (14 Ct./Min.)', 'adaCustomCopy': 'For special seating needs, please check the venue information page for details. Should you require further information please call the Hotline on +49.(0)1805 - 969 0000 (14 Ct./Min.)', 'adaHours': 'Monday to Friday, 9:00-19.00; Saturday, 10.00-14.00'}, '_links': {'self': {'href': '/discovery/v2/venues/KovZpZAl111A?locale=en-de'}}}, {'name': 'Freilichtbühne Heppenheim', 'type': 'venue', 'id': 'KovZpZAl116A', 'test': False, 'url': 'http://www.ticketmaster.de/venue/290639', 'locale': 'en-de', 'postalCode': '64646', 'timezone': 'Europe/Berlin', 'city': {'name': 'Heppenheim'}, 'country': {'name': 'Germany', 'countryCode': 'DE'}, 'address': {'line1': 'Oberhalb der Stadt'}, 'markets': [{'name': 'Germany', 'id': '210'}], 'dmas': [{'id': 610}], 'upcomingEvents': {'_total': 0, '_filtered': 0}, 'ada': {'adaPhones': '+49.(0)1805 - 969 0000 (14 Ct./Min.)', 'adaCustomCopy': 'For special seating needs, please check the venue information page for details. Should you require further information please call the Hotline on +49.(0)1805 - 969 0000 (14 Ct./Min.)', 'adaHours': 'Monday to Friday, 9:00-19.00; Saturday, 10.00-14.00'}, '_links': {'self': {'href': '/discovery/v2/venues/KovZpZAl116A?locale=en-de'}}}, {'name': 'Schlosswallhalle', 'type': 'venue', 'id': 'KovZpZAl117A', 'test': False, 'url': 'http://www.ticketmaster.de/venue/290630', 'locale': 'en-de', 'postalCode': '49074', 'timezone': 'Europe/Berlin', 'city': {'name': 'Osnabrück'}, 'country': {'name': 'Germany', 'countryCode': 'DE'}, 'address': {'line1': 'Schlosswall 10'}, 'markets': [{'name': 'Germany', 'id': '210'}], 'dmas': [{'id': 610}], 'upcomingEvents': {'_total': 0, '_filtered': 0}, 'ada': {'adaPhones': '+49.(0)1805 - 969 0000 (14 Ct./Min.)', 'adaCustomCopy': 'For special seating needs, please check the venue information page for details. Should you require further information please call the Hotline on +49.(0)1805 - 969 0000 (14 Ct./Min.)', 'adaHours': 'Monday to Friday, 9:00-19.00; Saturday, 10.00-14.00'}, '_links': {'self': {'href': '/discovery/v2/venues/KovZpZAl117A?locale=en-de'}}}, {'name': 'Metropol Theater', 'type': 'venue', 'id': 'KovZpZAl11AA', 'test': False, 'url': 'http://www.ticketmaster.de/venue/290631', 'locale': 'en-de', 'postalCode': '49377', 'timezone': 'Europe/Berlin', 'city': {'name': 'Vechta'}, 'country': {'name': 'Germany', 'countryCode': 'DE'}, 'address': {'line1': 'Kolpingstrasse 27'}, 'markets': [{'name': 'Germany', 'id': '210'}], 'dmas': [{'id': 610}], 'upcomingEvents': {'_total': 0, '_filtered': 0}, 'ada': {'adaPhones': '+49.(0)1805 - 969 0000 (14 Ct./Min.)', 'adaCustomCopy': 'For special seating needs, please check the venue information page for details. Should you require further information please call the Hotline on +49.(0)1805 - 969 0000 (14 Ct./Min.)', 'adaHours': 'Monday to Friday, 9:00-19.00; Saturday, 10.00-14.00'}, '_links': {'self': {'href': '/discovery/v2/venues/KovZpZAl11AA?locale=en-de'}}}, {'name': 'RÖDERMARK - Kulturhalle', 'type': 'venue', 'id': 'KovZpZAl11EA', 'test': False, 'url': 'http://www.ticketmaster.de/venue/290649', 'locale': 'en-de', 'postalCode': '63322', 'timezone': 'Europe/Berlin', 'city': {'name': 'Rödermark'}, 'country': {'name': 'Germany', 'countryCode': 'DE'}, 'address': {'line1': 'Dieburger Strasse 27'}, 'markets': [{'name': 'Germany', 'id': '210'}], 'dmas': [{'id': 610}], 'upcomingEvents': {'_total': 0, '_filtered': 0}, 'ada': {'adaPhones': '+49.(0)1805 - 969 0000 (14 Ct./Min.)', 'adaCustomCopy': 'For special seating needs, please check the venue information page for details. Should you require further information please call the Hotline on +49.(0)1805 - 969 0000 (14 Ct./Min.)', 'adaHours': 'Monday to Friday, 9:00-19.00; Saturday, 10.00-14.00'}, '_links': {'self': {'href': '/discovery/v2/venues/KovZpZAl11EA?locale=en-de'}}}, {'name': '3922', 'type': 'venue', 'id': 'KovZpZAl11FA', 'test': False, 'url': 'http://www.ticketmaster.de/venue/290642', 'locale': 'en-de', 'postalCode': '96479', 'timezone': 'Europe/Berlin', 'city': {'name': 'Tambach'}, 'country': {'name': 'Germany', 'countryCode': 'DE'}, 'address': {'line1': 'Schlossinnenhof | Schlossallee 1'}, 'markets': [{'name': 'Germany', 'id': '210'}], 'dmas': [{'id': 610}], 'upcomingEvents': {'_total': 0, '_filtered': 0}, 'ada': {'adaPhones': '+49.(0)1805 - 969 0000 (14 Ct./Min.)', 'adaCustomCopy': 'For special seating needs, please check the venue information page for details. Should you require further information please call the Hotline on +49.(0)1805 - 969 0000 (14 Ct./Min.)', 'adaHours': 'Monday to Friday, 9:00-19.00; Saturday, 10.00-14.00'}, '_links': {'self': {'href': '/discovery/v2/venues/KovZpZAl11FA?locale=en-de'}}}, {'name': 'Nibelungenhalle', 'type': 'venue', 'id': 'KovZpZAl11IA', 'test': False, 'url': 'http://www.ticketmaster.de/venue/290653', 'locale': 'en-de', 'postalCode': '74731', 'timezone': 'Europe/Berlin', 'city': {'name': 'Walldürn'}, 'country': {'name': 'Germany', 'countryCode': 'DE'}, 'address': {'line1': 'Theodor Heuss Ring'}, 'markets': [{'name': 'Germany', 'id': '210'}], 'dmas': [{'id': 610}], 'upcomingEvents': {'_total': 0, '_filtered': 0}, 'ada': {'adaPhones': '+49.(0)1805 - 969 0000 (14 Ct./Min.)', 'adaCustomCopy': 'For special seating needs, please check the venue information page for details. Should you require further information please call the Hotline on +49.(0)1805 - 969 0000 (14 Ct./Min.)', 'adaHours': 'Monday to Friday, 9:00-19.00; Saturday, 10.00-14.00'}, '_links': {'self': {'href': '/discovery/v2/venues/KovZpZAl11IA?locale=en-de'}}}, {'name': 'St. Johannis Kirche', 'type': 'venue', 'id': 'KovZpZAl11JA', 'test': False, 'url': 'http://www.ticketmaster.de/venue/290650', 'locale': 'en-de', 'postalCode': '97070', 'timezone': 'Europe/Berlin', 'city': {'name': 'Würzburg'}, 'country': {'name': 'Germany', 'countryCode': 'DE'}, 'address': {'line1': 'Hofstallstrasse 5'}, 'markets': [{'name': 'Germany', 'id': '210'}], 'dmas': [{'id': 610}], 'upcomingEvents': {'_total': 0, '_filtered': 0}, 'ada': {'adaPhones': '+49.(0)1805 - 969 0000 (14 Ct./Min.)', 'adaCustomCopy': 'For special seating needs, please check the venue information page for details. Should you require further information please call the Hotline on +49.(0)1805 - 969 0000 (14 Ct./Min.)', 'adaHours': 'Monday to Friday, 9:00-19.00; Saturday, 10.00-14.00'}, '_links': {'self': {'href': '/discovery/v2/venues/KovZpZAl11JA?locale=en-de'}}}, {'name': 'filmkunst 66', 'type': 'venue', 'id': 'KovZpZAl11aA', 'test': False, 'url': 'http://www.ticketmaster.de/venue/290643', 'locale': 'en-de', 'postalCode': '10623', 'timezone': 'Europe/Berlin', 'city': {'name': 'Berlin'}, 'country': {'name': 'Germany', 'countryCode': 'DE'}, 'address': {'line1': 'Bleibtreustrasse 12'}, 'markets': [{'name': 'Germany', 'id': '210'}], 'dmas': [{'id': 610}], 'upcomingEvents': {'_total': 0, '_filtered': 0}, 'ada': {'adaPhones': '+49.(0)1805 - 969 0000 (14 Ct./Min.)', 'adaCustomCopy': 'For special seating needs, please check the venue information page for details. Should you require further information please call the Hotline on +49.(0)1805 - 969 0000 (14 Ct./Min.)', 'adaHours': 'Monday to Friday, 9:00-19.00; Saturday, 10.00-14.00'}, '_links': {'self': {'href': '/discovery/v2/venues/KovZpZAl11aA?locale=en-de'}}}, {'name': 'Congress Centrum (Europasaal)', 'type': 'venue', 'id': 'KovZpZAl11dA', 'test': False, 'url': 'http://www.ticketmaster.de/venue/290622', 'locale': 'en-de', 'postalCode': '71032', 'timezone': 'Europe/Berlin', 'city': {'name': 'Böblingen'}, 'country': {'name': 'Germany', 'countryCode': 'DE'}, 'address': {'line1': 'Ida Ehre Platz'}, 'markets': [{'name': 'Germany', 'id': '210'}], 'dmas': [{'id': 610}], 'upcomingEvents': {'_total': 0, '_filtered': 0}, 'ada': {'adaPhones': '+49.(0)1805 - 969 0000 (14 Ct./Min.)', 'adaCustomCopy': 'For special seating needs, please check the venue information page for details. Should you require further information please call the Hotline on +49.(0)1805 - 969 0000 (14 Ct./Min.)', 'adaHours': 'Monday to Friday, 9:00-19.00; Saturday, 10.00-14.00'}, '_links': {'self': {'href': '/discovery/v2/venues/KovZpZAl11dA?locale=en-de'}}}, {'name': 'Sauerland Theater', 'type': 'venue', 'id': 'KovZpZAl11eA', 'test': False, 'url': 'http://www.ticketmaster.de/venue/290621', 'locale': 'en-de', 'postalCode': '59821', 'timezone': 'Europe/Berlin', 'city': {'name': 'Arnsberg'}, 'country': {'name': 'Germany', 'countryCode': 'DE'}, 'address': {'line1': 'Feauxweg 9'}, 'markets': [{'name': 'Germany', 'id': '210'}], 'dmas': [{'id': 610}], 'upcomingEvents': {'_total': 0, '_filtered': 0}, 'ada': {'adaPhones': '+49.(0)1805 - 969 0000 (14 Ct./Min.)', 'adaCustomCopy': 'For special seating needs, please check the venue information page for details. Should you require further information please call the Hotline on +49.(0)1805 - 969 0000 (14 Ct./Min.)', 'adaHours': 'Monday to Friday, 9:00-19.00; Saturday, 10.00-14.00'}, '_links': {'self': {'href': '/discovery/v2/venues/KovZpZAl11eA?locale=en-de'}}}, {'name': 'Hebbel am Ufer 1', 'type': 'venue', 'id': 'KovZpZAl11kA', 'test': False, 'url': 'http://www.ticketmaster.de/venue/290635', 'locale': 'en-de', 'postalCode': '10963', 'timezone': 'Europe/Berlin', 'city': {'name': 'Berlin'}, 'country': {'name': 'Germany', 'countryCode': 'DE'}, 'address': {'line1': 'Stresemannstrasse 29'}, 'markets': [{'name': 'Germany', 'id': '210'}], 'dmas': [{'id': 610}], 'upcomingEvents': {'_total': 0, '_filtered': 0}, 'ada': {'adaPhones': '+49.(0)1805 - 969 0000 (14 Ct./Min.)', 'adaCustomCopy': 'For special seating needs, please check the venue information page for details. Should you require further information please call the Hotline on +49.(0)1805 - 969 0000 (14 Ct./Min.)', 'adaHours': 'Monday to Friday, 9:00-19.00; Saturday, 10.00-14.00'}, '_links': {'self': {'href': '/discovery/v2/venues/KovZpZAl11kA?locale=en-de'}}}, {'name': 'Roots Club', 'type': 'venue', 'id': 'KovZpZAl11lA', 'test': False, 'url': 'http://www.ticketmaster.de/venue/290659', 'locale': 'en-de', 'postalCode': '41061', 'timezone': 'Europe/Berlin', 'city': {'name': 'Mönchengladbach'}, 'country': {'name': 'Germany', 'countryCode': 'DE'}, 'address': {'line1': 'Aachener Strasse 21-23'}, 'markets': [{'name': 'Germany', 'id': '210'}], 'dmas': [{'id': 610}], 'upcomingEvents': {'_total': 0, '_filtered': 0}, 'ada': {'adaPhones': '+49.(0)1805 - 969 0000 (14 Ct./Min.)', 'adaCustomCopy': 'For special seating needs, please check the venue information page for details. Should you require further information please call the Hotline on +49.(0)1805 - 969 0000 (14 Ct./Min.)', 'adaHours': 'Monday to Friday, 9:00-19.00; Saturday, 10.00-14.00'}, '_links': {'self': {'href': '/discovery/v2/venues/KovZpZAl11lA?locale=en-de'}}}]}, '_links': {'first': {'href': '/discovery/v2/venues?countryCode=DE&page=0&size=20'}, 'self': {'href': '/discovery/v2/venues?countryCode=DE'}, 'next': {'href': '/discovery/v2/venues?countryCode=DE&page=1&size=20'}, 'last': {'href': '/discovery/v2/venues?countryCode=DE&page=237&size=20'}}, 'page': {'size': 20, 'totalElements': 4745, 'totalPages': 238, 'number': 0}}\n"
     ]
    }
   ],
   "source": [
    "# load key\n",
    "with open(\"key.txt\") as f:\n",
    "  key = f.readlines()[0]\n",
    "\n",
    "# get request to api\n",
    "APIcontent = requests.get(\"https://app.ticketmaster.com/discovery/v2/venues\",\n",
    "                           params = {\"apikey\":key, \"countryCode\":\"DE\"}).json()\n",
    "\n",
    "print(APIcontent)"
   ]
  },
  {
   "cell_type": "code",
   "execution_count": 6,
   "metadata": {},
   "outputs": [
    {
     "name": "stdout",
     "output_type": "stream",
     "text": [
      "{'size': 20, 'totalElements': 4745, 'totalPages': 238, 'number': 0}\n"
     ]
    }
   ],
   "source": [
    "print(APIcontent[\"page\"])"
   ]
  },
  {
   "cell_type": "code",
   "execution_count": 10,
   "metadata": {},
   "outputs": [],
   "source": [
    "# Function to query the nested dictionary which we receive from the API\n",
    "\n",
    "def query_dict(dict_, *keys):\n",
    "    \"\"\"\n",
    "    This function needs a dictionary and one or multiple keys. Output is the element stored behind the key or a None\n",
    "    if that element is not present\n",
    "    \"\"\"\n",
    "    \n",
    "    # for some instances we have two keys, if that is the case, query both an get the element\n",
    "    for key in keys:\n",
    "        try:\n",
    "            dict_ = dict_[key]\n",
    "        except:\n",
    "    # if that particular entry is not present return Nne\n",
    "            return None\n",
    "    return dict_"
   ]
  },
  {
   "cell_type": "code",
   "execution_count": 11,
   "metadata": {},
   "outputs": [],
   "source": [
    "# Define output Dataframe with columns that we would like to extract\n",
    "venues = pd.DataFrame(columns = [\"name\", \"city\", \"postalCode\", \"address\", \"url\", \"longitude\", \"latitude\"])\n",
    "\n",
    "for i in APIcontent[\"_embedded\"][\"venues\"]:\n",
    "    \n",
    "    objects = []\n",
    "    \n",
    "    objects.append(query_dict(i,\"name\"))\n",
    "    objects.append(query_dict(i,\"city\",\"name\"))\n",
    "    objects.append(query_dict(i,\"postalCode\"))\n",
    "    objects.append(query_dict(i,\"address\",\"line1\"))\n",
    "    objects.append(query_dict(i,\"url\"))\n",
    "    objects.append(query_dict(i,\"location\",\"longitude\"))\n",
    "    objects.append(query_dict(i,\"location\",\"latitude\"))\n",
    "\n",
    "    \n",
    "    venues.loc[len(venues)] = objects"
   ]
  },
  {
   "cell_type": "code",
   "execution_count": 13,
   "metadata": {
    "scrolled": true
   },
   "outputs": [
    {
     "data": {
      "text/html": [
       "<div>\n",
       "<style scoped>\n",
       "    .dataframe tbody tr th:only-of-type {\n",
       "        vertical-align: middle;\n",
       "    }\n",
       "\n",
       "    .dataframe tbody tr th {\n",
       "        vertical-align: top;\n",
       "    }\n",
       "\n",
       "    .dataframe thead th {\n",
       "        text-align: right;\n",
       "    }\n",
       "</style>\n",
       "<table border=\"1\" class=\"dataframe\">\n",
       "  <thead>\n",
       "    <tr style=\"text-align: right;\">\n",
       "      <th></th>\n",
       "      <th>name</th>\n",
       "      <th>city</th>\n",
       "      <th>postalCode</th>\n",
       "      <th>address</th>\n",
       "      <th>url</th>\n",
       "      <th>longitude</th>\n",
       "      <th>latitude</th>\n",
       "    </tr>\n",
       "  </thead>\n",
       "  <tbody>\n",
       "    <tr>\n",
       "      <th>0</th>\n",
       "      <td>Grosse Freiheit 36</td>\n",
       "      <td>Hamburg</td>\n",
       "      <td>22767</td>\n",
       "      <td>Grosse Freiheit 36</td>\n",
       "      <td>http://www.ticketmaster.de/venue/287636</td>\n",
       "      <td>9.957905</td>\n",
       "      <td>53.551187</td>\n",
       "    </tr>\n",
       "    <tr>\n",
       "      <th>1</th>\n",
       "      <td>Gruenspan</td>\n",
       "      <td>Hamburg</td>\n",
       "      <td>22767</td>\n",
       "      <td>Grosse Freiheit 58</td>\n",
       "      <td>http://www.ticketmaster.de/venue/287155</td>\n",
       "      <td>9.958075</td>\n",
       "      <td>53.551885</td>\n",
       "    </tr>\n",
       "    <tr>\n",
       "      <th>2</th>\n",
       "      <td>Huxleys Neue Welt</td>\n",
       "      <td>Berlin</td>\n",
       "      <td>10967</td>\n",
       "      <td>Hasenheide 107 – 113</td>\n",
       "      <td>http://www.ticketmaster.de/venue/286842</td>\n",
       "      <td>13.42138</td>\n",
       "      <td>52.486391</td>\n",
       "    </tr>\n",
       "    <tr>\n",
       "      <th>3</th>\n",
       "      <td>Virtual Event</td>\n",
       "      <td>Worldwide</td>\n",
       "      <td>None</td>\n",
       "      <td>None</td>\n",
       "      <td>https://www.ticketmaster.de/venue/virtuelles-e...</td>\n",
       "      <td>10.0</td>\n",
       "      <td>50.0</td>\n",
       "    </tr>\n",
       "    <tr>\n",
       "      <th>4</th>\n",
       "      <td>Ev. St. Jacobi Kirche</td>\n",
       "      <td>Sangerhausen</td>\n",
       "      <td>06526</td>\n",
       "      <td>Marktplatz</td>\n",
       "      <td>http://www.ticketmaster.de/venue/290061</td>\n",
       "      <td>None</td>\n",
       "      <td>None</td>\n",
       "    </tr>\n",
       "  </tbody>\n",
       "</table>\n",
       "</div>"
      ],
      "text/plain": [
       "                    name          city postalCode               address  \\\n",
       "0     Grosse Freiheit 36       Hamburg      22767    Grosse Freiheit 36   \n",
       "1              Gruenspan       Hamburg      22767    Grosse Freiheit 58   \n",
       "2      Huxleys Neue Welt        Berlin      10967  Hasenheide 107 – 113   \n",
       "3          Virtual Event     Worldwide       None                  None   \n",
       "4  Ev. St. Jacobi Kirche  Sangerhausen      06526            Marktplatz   \n",
       "\n",
       "                                                 url longitude   latitude  \n",
       "0            http://www.ticketmaster.de/venue/287636  9.957905  53.551187  \n",
       "1            http://www.ticketmaster.de/venue/287155  9.958075  53.551885  \n",
       "2            http://www.ticketmaster.de/venue/286842  13.42138  52.486391  \n",
       "3  https://www.ticketmaster.de/venue/virtuelles-e...      10.0       50.0  \n",
       "4            http://www.ticketmaster.de/venue/290061      None       None  "
      ]
     },
     "execution_count": 13,
     "metadata": {},
     "output_type": "execute_result"
    }
   ],
   "source": [
    "venues.head()"
   ]
  },
  {
   "cell_type": "markdown",
   "metadata": {},
   "source": [
    "### Interacting with the API advanced\n",
    "We 238 pages with 20 elements each. By setting the element size to 100, we need 48 pages to query"
   ]
  },
  {
   "cell_type": "code",
   "execution_count": 14,
   "metadata": {},
   "outputs": [
    {
     "name": "stdout",
     "output_type": "stream",
     "text": [
      "error at: -1\n",
      "error at: 6\n"
     ]
    },
    {
     "data": {
      "text/html": [
       "<div>\n",
       "<style scoped>\n",
       "    .dataframe tbody tr th:only-of-type {\n",
       "        vertical-align: middle;\n",
       "    }\n",
       "\n",
       "    .dataframe tbody tr th {\n",
       "        vertical-align: top;\n",
       "    }\n",
       "\n",
       "    .dataframe thead th {\n",
       "        text-align: right;\n",
       "    }\n",
       "</style>\n",
       "<table border=\"1\" class=\"dataframe\">\n",
       "  <thead>\n",
       "    <tr style=\"text-align: right;\">\n",
       "      <th></th>\n",
       "      <th>name</th>\n",
       "      <th>city</th>\n",
       "      <th>postalCode</th>\n",
       "      <th>address</th>\n",
       "      <th>url</th>\n",
       "      <th>longitude</th>\n",
       "      <th>latitude</th>\n",
       "    </tr>\n",
       "  </thead>\n",
       "  <tbody>\n",
       "    <tr>\n",
       "      <th>0</th>\n",
       "      <td>St. Gandolf</td>\n",
       "      <td>Amorbach</td>\n",
       "      <td>63916</td>\n",
       "      <td>Kirchplatz 7</td>\n",
       "      <td>http://www.ticketmaster.de/venue/290561</td>\n",
       "      <td>None</td>\n",
       "      <td>None</td>\n",
       "    </tr>\n",
       "    <tr>\n",
       "      <th>1</th>\n",
       "      <td>Bröltalhalle</td>\n",
       "      <td>Ruppichteroth</td>\n",
       "      <td>53809</td>\n",
       "      <td>Dr. Herzfeld Strasse</td>\n",
       "      <td>http://www.ticketmaster.de/venue/290524</td>\n",
       "      <td>None</td>\n",
       "      <td>None</td>\n",
       "    </tr>\n",
       "    <tr>\n",
       "      <th>2</th>\n",
       "      <td>Club Biergarten Dieburg</td>\n",
       "      <td>Dieburg</td>\n",
       "      <td>64807</td>\n",
       "      <td>Hohe Strasse 17</td>\n",
       "      <td>http://www.ticketmaster.de/venue/290778</td>\n",
       "      <td>None</td>\n",
       "      <td>None</td>\n",
       "    </tr>\n",
       "    <tr>\n",
       "      <th>3</th>\n",
       "      <td>Eventhaus Hoffnung</td>\n",
       "      <td>Lübeck</td>\n",
       "      <td>23564</td>\n",
       "      <td>Hüxtertorallee 23a</td>\n",
       "      <td>http://www.ticketmaster.de/venue/290771</td>\n",
       "      <td>None</td>\n",
       "      <td>None</td>\n",
       "    </tr>\n",
       "    <tr>\n",
       "      <th>4</th>\n",
       "      <td>Sporthalle am Böllenfalltor</td>\n",
       "      <td>Darmstadt</td>\n",
       "      <td>64285</td>\n",
       "      <td>Nieder Ramstädter Strasse 170</td>\n",
       "      <td>http://www.ticketmaster.de/venue/290765</td>\n",
       "      <td>None</td>\n",
       "      <td>None</td>\n",
       "    </tr>\n",
       "    <tr>\n",
       "      <th>5</th>\n",
       "      <td>Irish Harp Pup</td>\n",
       "      <td>Berlin</td>\n",
       "      <td>10629</td>\n",
       "      <td>Giesebrechtstrasse15</td>\n",
       "      <td>http://www.ticketmaster.de/venue/290767</td>\n",
       "      <td>None</td>\n",
       "      <td>None</td>\n",
       "    </tr>\n",
       "    <tr>\n",
       "      <th>6</th>\n",
       "      <td>Inselhalle</td>\n",
       "      <td>Lindau</td>\n",
       "      <td>88131</td>\n",
       "      <td>Ludwigstrasse 68</td>\n",
       "      <td>http://www.ticketmaster.de/venue/290782</td>\n",
       "      <td>None</td>\n",
       "      <td>None</td>\n",
       "    </tr>\n",
       "    <tr>\n",
       "      <th>7</th>\n",
       "      <td>4053</td>\n",
       "      <td>Madrid - Spanien</td>\n",
       "      <td>28013</td>\n",
       "      <td>Calle de Tetuan 27</td>\n",
       "      <td>http://www.ticketmaster.de/venue/290773</td>\n",
       "      <td>None</td>\n",
       "      <td>None</td>\n",
       "    </tr>\n",
       "    <tr>\n",
       "      <th>8</th>\n",
       "      <td>Badesee</td>\n",
       "      <td>Ertingen</td>\n",
       "      <td>88521</td>\n",
       "      <td>Schwarenachstrasse</td>\n",
       "      <td>http://www.ticketmaster.de/venue/290787</td>\n",
       "      <td>None</td>\n",
       "      <td>None</td>\n",
       "    </tr>\n",
       "    <tr>\n",
       "      <th>9</th>\n",
       "      <td>Kurpark Classix</td>\n",
       "      <td>Aachen</td>\n",
       "      <td>52062</td>\n",
       "      <td>Kurgarten Monheimsallee</td>\n",
       "      <td>http://www.ticketmaster.de/venue/290781</td>\n",
       "      <td>None</td>\n",
       "      <td>None</td>\n",
       "    </tr>\n",
       "  </tbody>\n",
       "</table>\n",
       "</div>"
      ],
      "text/plain": [
       "                          name              city postalCode  \\\n",
       "0                  St. Gandolf          Amorbach      63916   \n",
       "1                 Bröltalhalle     Ruppichteroth      53809   \n",
       "2      Club Biergarten Dieburg           Dieburg      64807   \n",
       "3           Eventhaus Hoffnung            Lübeck      23564   \n",
       "4  Sporthalle am Böllenfalltor         Darmstadt      64285   \n",
       "5               Irish Harp Pup            Berlin      10629   \n",
       "6                   Inselhalle            Lindau      88131   \n",
       "7                         4053  Madrid - Spanien      28013   \n",
       "8                      Badesee          Ertingen      88521   \n",
       "9              Kurpark Classix            Aachen      52062   \n",
       "\n",
       "                         address                                      url  \\\n",
       "0                   Kirchplatz 7  http://www.ticketmaster.de/venue/290561   \n",
       "1           Dr. Herzfeld Strasse  http://www.ticketmaster.de/venue/290524   \n",
       "2                Hohe Strasse 17  http://www.ticketmaster.de/venue/290778   \n",
       "3             Hüxtertorallee 23a  http://www.ticketmaster.de/venue/290771   \n",
       "4  Nieder Ramstädter Strasse 170  http://www.ticketmaster.de/venue/290765   \n",
       "5           Giesebrechtstrasse15  http://www.ticketmaster.de/venue/290767   \n",
       "6               Ludwigstrasse 68  http://www.ticketmaster.de/venue/290782   \n",
       "7             Calle de Tetuan 27  http://www.ticketmaster.de/venue/290773   \n",
       "8             Schwarenachstrasse  http://www.ticketmaster.de/venue/290787   \n",
       "9        Kurgarten Monheimsallee  http://www.ticketmaster.de/venue/290781   \n",
       "\n",
       "  longitude latitude  \n",
       "0      None     None  \n",
       "1      None     None  \n",
       "2      None     None  \n",
       "3      None     None  \n",
       "4      None     None  \n",
       "5      None     None  \n",
       "6      None     None  \n",
       "7      None     None  \n",
       "8      None     None  \n",
       "9      None     None  "
      ]
     },
     "execution_count": 14,
     "metadata": {},
     "output_type": "execute_result"
    }
   ],
   "source": [
    "# initiate output dataframe\n",
    "venues_all = pd.DataFrame(columns = [\"name\", \"city\", \"postalCode\", \"address\", \"url\", \"longitude\", \"latitude\"])\n",
    "\n",
    "# loop over all 48 pages\n",
    "for page in range(48):\n",
    "    APIcontent = requests.get(\"https://app.ticketmaster.com/discovery/v2/venues\",\n",
    "                               params = {\"apikey\":key, \"countryCode\":\"DE\", \"page\":page, \"size\":100}).json()\n",
    "    \n",
    "    # wait for 2 seconds before the next request\n",
    "    time.sleep(2) \n",
    "    # some random pages produce errors. Maybe its because we are using the same public key, the query limit is reached.\n",
    "    # if an error occurs, we wait some seconds and try again\n",
    "    try:\n",
    "       \tfor i in APIcontent[\"_embedded\"][\"venues\"]:\n",
    "               \n",
    "               objects = []\n",
    "               \n",
    "               objects.append(query_dict(i,\"name\"))\n",
    "               objects.append(query_dict(i,\"city\",\"name\"))\n",
    "               objects.append(query_dict(i,\"postalCode\"))\n",
    "               objects.append(query_dict(i,\"address\",\"line1\"))\n",
    "               objects.append(query_dict(i,\"url\"))\n",
    "               objects.append(query_dict(i,\"location\",\"longitude\"))\n",
    "               objects.append(query_dict(i,\"location\",\"latitude\"))\n",
    "               \n",
    "               venues_all.loc[len(venues_all)] = objects\n",
    "\n",
    "    except:\n",
    "        time.sleep(2) \n",
    "        page = page-1\n",
    "        print(\"error at:\", page)\n",
    "        \n",
    "venues_all.head(n=10)"
   ]
  },
  {
   "cell_type": "code",
   "execution_count": 15,
   "metadata": {},
   "outputs": [
    {
     "data": {
      "text/plain": [
       "(4545, 7)"
      ]
     },
     "execution_count": 15,
     "metadata": {},
     "output_type": "execute_result"
    }
   ],
   "source": [
    "venues_all.shape"
   ]
  }
 ],
 "metadata": {
  "kernelspec": {
   "display_name": "Python 3 (ipykernel)",
   "language": "python",
   "name": "python3"
  },
  "language_info": {
   "codemirror_mode": {
    "name": "ipython",
    "version": 3
   },
   "file_extension": ".py",
   "mimetype": "text/x-python",
   "name": "python",
   "nbconvert_exporter": "python",
   "pygments_lexer": "ipython3",
   "version": "3.9.13"
  }
 },
 "nbformat": 4,
 "nbformat_minor": 4
}
