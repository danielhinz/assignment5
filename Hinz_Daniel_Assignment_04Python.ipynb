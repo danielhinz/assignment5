{
 "cells": [
  {
   "cell_type": "markdown",
   "metadata": {},
   "source": [
    "\n",
    "# DS400: Assignment 5 (Python)\n",
    "\n",
    "##### Daniel Hinz (Student ID: 6302371)\n",
    "##### January 25 2023"
   ]
  },
  {
   "cell_type": "markdown",
   "metadata": {},
   "source": [
    "## Preprocessing"
   ]
  },
  {
   "cell_type": "markdown",
   "metadata": {},
   "source": [
    "(1) In the folder data you will find the original images. Each image is labeled as either pizza or no pizza.\n",
    "Apply the pipeline below and export to csv."
   ]
  },
  {
   "cell_type": "code",
   "execution_count": 1,
   "metadata": {},
   "outputs": [],
   "source": [
    "# Imports\n",
    "import os\n",
    "import numpy as np\n",
    "import pandas as pd\n",
    "import requests\n",
    "import time\n",
    "\n"
   ]
  },
  {
   "cell_type": "code",
   "execution_count": 2,
   "metadata": {},
   "outputs": [],
   "source": [
    "# set directory\n",
    "os.chdir(\"D:/Dokumente/Studium/Master_DataScience/Assignment5\")"
   ]
  },
  {
   "cell_type": "code",
   "execution_count": 3,
   "metadata": {},
   "outputs": [
    {
     "name": "stdout",
     "output_type": "stream",
     "text": [
      "{'_embedded': {'venues': [{'name': 'Grosse Freiheit 36', 'type': 'venue', 'id': 'KovZpZAn6vEA', 'test': False, 'url': 'http://www.ticketmaster.de/venue/287636', 'locale': 'en-de', 'images': [{'ratio': '16_9', 'url': 'https://s1.ticketm.net/dbimages/962v.', 'width': 205, 'height': 115, 'fallback': False}], 'postalCode': '22767', 'timezone': 'Europe/Berlin', 'city': {'name': 'Hamburg'}, 'country': {'name': 'Germany', 'countryCode': 'DE'}, 'address': {'line1': 'Grosse Freiheit 36'}, 'location': {'longitude': '9.957905', 'latitude': '53.551187'}, 'markets': [{'name': 'Germany', 'id': '210'}], 'dmas': [{'id': 610}], 'boxOfficeInfo': {'phoneNumberDetail': 'Telefon tagsüber: (040) 31 77 78- 0 Große Freiheit 36 22767 Hamburg E-Mail: info@grossefreiheit36.de'}, 'upcomingEvents': {'_total': 1, 'mfx-de': 1, '_filtered': 0}, 'ada': {'adaPhones': '+49.(0)1805 - 969 0000 (14 Ct./Min.)', 'adaCustomCopy': 'Sollten Sie besondere Sitzplatzwünsche haben, prüfen Sie bitte die Informationsseite des Veranstaltungsortes. Für weitergehende Informationen steht Ihnen unsere Hotline unter +49.(0)1805 - 969 0000 (14 Ct./Min.) zur Verfügung.', 'adaHours': 'Montag bis Freitag, in der Zeit von 9.00-19.00 Uhr sowie sonnabends von 10.00-18.00 Uhr zur Verfügung.'}, '_links': {'self': {'href': '/discovery/v2/venues/KovZpZAn6vEA?locale=en-de'}}}, {'name': 'Gruenspan', 'type': 'venue', 'id': 'KovZpZAneakA', 'test': False, 'url': 'http://www.ticketmaster.de/venue/287155', 'locale': 'en-de', 'images': [{'ratio': '16_9', 'url': 'https://s1.ticketm.net/dbimages/2057v.', 'width': 205, 'height': 115, 'fallback': False}], 'postalCode': '22767', 'timezone': 'Europe/Berlin', 'city': {'name': 'Hamburg'}, 'country': {'name': 'Germany', 'countryCode': 'DE'}, 'address': {'line1': 'Grosse Freiheit 58'}, 'location': {'longitude': '9.958075', 'latitude': '53.551885'}, 'markets': [{'name': 'Germany', 'id': '210'}], 'dmas': [{'id': 610}], 'boxOfficeInfo': {'phoneNumberDetail': 'Gruenspan Große Freiheit 58 22767 Hamburg Tel: 040-313616 mail: info@gruenspan.de web: www.gruenspan.de'}, 'upcomingEvents': {'_total': 2, 'mfx-de': 2, '_filtered': 0}, 'ada': {'adaPhones': '+49.(0)1805 - 969 0000 (14 Ct./Min.)', 'adaCustomCopy': 'Sollten Sie besondere Sitzplatzwünsche haben, prüfen Sie bitte die Informationsseite des Veranstaltungsortes. Für weitergehende Informationen steht Ihnen unsere Hotline unter +49.(0)1805 - 969 0000 (14 Ct./Min.) zur Verfügung.', 'adaHours': 'Montag bis Freitag, in der Zeit von 9.00-19.00 Uhr sowie sonnabends von 10.00-18.00 Uhr zur Verfügung.'}, '_links': {'self': {'href': '/discovery/v2/venues/KovZpZAneakA?locale=en-de'}}}, {'name': 'Huxleys Neue Welt', 'type': 'venue', 'id': 'KovZpZAtnIJA', 'test': False, 'url': 'http://www.ticketmaster.de/venue/286842', 'locale': 'en-de', 'images': [{'ratio': '16_9', 'url': 'https://s1.ticketm.net/dbimages/2146v.jpg', 'width': 205, 'height': 115, 'fallback': False}], 'postalCode': '10967', 'timezone': 'Europe/Berlin', 'city': {'name': 'Berlin'}, 'country': {'name': 'Germany', 'countryCode': 'DE'}, 'address': {'line1': 'Hasenheide 107 – 113'}, 'location': {'longitude': '13.42138', 'latitude': '52.486391'}, 'markets': [{'name': 'Germany', 'id': '210'}], 'dmas': [{'id': 610}], 'boxOfficeInfo': {'phoneNumberDetail': 'Huxleys Neue Welt Hasenheide 107-113 10967 Berlin Neukölln Tel 030 621 10 28'}, 'upcomingEvents': {'_total': 10, 'mfx-de': 10, '_filtered': 0}, 'ada': {'adaPhones': '+49.(0)1805 - 969 0000 (14 Ct./Min.)', 'adaCustomCopy': 'Sollten Sie besondere Sitzplatzwünsche haben, prüfen Sie bitte die Informationsseite des Veranstaltungsortes. Für weitergehende Informationen steht Ihnen unsere Hotline unter +49.(0)1805 - 969 0000 (14 Ct./Min.) zur Verfügung.', 'adaHours': 'Montag bis Freitag, in der Zeit von 9.00-19.00 Uhr sowie sonnabends von 10.00-18.00 Uhr zur Verfügung.'}, '_links': {'self': {'href': '/discovery/v2/venues/KovZpZAtnIJA?locale=en-de'}}}, {'name': 'Virtual Event', 'type': 'venue', 'id': 'Z698xZC2ZaFZh', 'test': False, 'url': 'https://www.ticketmaster.de/venue/virtuelles-event-weltweit-tickets/zzzvirtuel/706', 'locale': 'en-us', 'timezone': 'Europe/Berlin', 'city': {'name': 'Worldwide'}, 'country': {'name': 'Germany', 'countryCode': 'DE'}, 'location': {'longitude': '10.0', 'latitude': '50.0'}, 'upcomingEvents': {'_total': 6, 'mfx-de': 6, '_filtered': 0}, '_links': {'self': {'href': '/discovery/v2/venues/Z698xZC2ZaFZh?locale=en-us'}}}, {'name': 'Ev. St. Jacobi Kirche', 'type': 'venue', 'id': 'KovZ9177aS7', 'test': False, 'url': 'http://www.ticketmaster.de/venue/290061', 'locale': 'en-de', 'postalCode': '06526', 'timezone': 'Europe/Berlin', 'city': {'name': 'Sangerhausen'}, 'country': {'name': 'Germany', 'countryCode': 'DE'}, 'address': {'line1': 'Marktplatz'}, 'markets': [{'name': 'Germany', 'id': '210'}], 'dmas': [{'id': 610}], 'upcomingEvents': {'_total': 0, '_filtered': 0}, 'ada': {'adaPhones': '+49.(0)1805 - 969 0000 (14 Ct./Min.)', 'adaCustomCopy': 'For special seating needs, please check the venue information page for details. Should you require further information please call the Hotline on +49.(0)1805 - 969 0000 (14 Ct./Min.)', 'adaHours': 'Monday to Friday, 9:00-19.00; Saturday, 10.00-14.00'}, '_links': {'self': {'href': '/discovery/v2/venues/KovZ9177aS7?locale=en-de'}}}, {'name': 'Evangelische Kirche', 'type': 'venue', 'id': 'KovZ9177aSf', 'test': False, 'url': 'http://www.ticketmaster.de/venue/290066', 'locale': 'en-de', 'postalCode': '48308', 'timezone': 'Europe/Berlin', 'city': {'name': 'Senden'}, 'country': {'name': 'Germany', 'countryCode': 'DE'}, 'address': {'line1': 'Steverstrasse 5'}, 'markets': [{'name': 'Germany', 'id': '210'}], 'dmas': [{'id': 610}], 'upcomingEvents': {'_total': 0, '_filtered': 0}, 'ada': {'adaPhones': '+49.(0)1805 - 969 0000 (14 Ct./Min.)', 'adaCustomCopy': 'For special seating needs, please check the venue information page for details. Should you require further information please call the Hotline on +49.(0)1805 - 969 0000 (14 Ct./Min.)', 'adaHours': 'Monday to Friday, 9:00-19.00; Saturday, 10.00-14.00'}, '_links': {'self': {'href': '/discovery/v2/venues/KovZ9177aSf?locale=en-de'}}}, {'name': 'HDI Arena', 'type': 'venue', 'id': 'KovZ917A5f0', 'test': False, 'url': 'http://www.ticketmaster.de/venue/461692', 'locale': 'en-de', 'timezone': 'Europe/Berlin', 'city': {'name': 'Hannover'}, 'country': {'name': 'Germany', 'countryCode': 'DE'}, 'address': {'line1': 'Robert-Enke-Straße 1', 'line2': '30169 Hannover, Germany'}, 'location': {'longitude': '9.73371', 'latitude': '52.361993'}, 'markets': [{'name': 'All of United Kingdom', 'id': '201'}, {'name': 'Ireland', 'id': '208'}], 'dmas': [{'id': 601}, {'id': 608}], 'upcomingEvents': {'_total': 0, '_filtered': 0}, '_links': {'self': {'href': '/discovery/v2/venues/KovZ917A5f0?locale=en-de'}}}, {'name': 'Arsenal', 'type': 'venue', 'id': 'KovZpZAl111A', 'test': False, 'url': 'http://www.ticketmaster.de/venue/290646', 'locale': 'en-de', 'postalCode': '10785', 'timezone': 'Europe/Berlin', 'city': {'name': 'Berlin'}, 'country': {'name': 'Germany', 'countryCode': 'DE'}, 'address': {'line1': 'Potsdamer Strasse 2'}, 'markets': [{'name': 'Germany', 'id': '210'}], 'dmas': [{'id': 610}], 'upcomingEvents': {'_total': 0, '_filtered': 0}, 'ada': {'adaPhones': '+49.(0)1805 - 969 0000 (14 Ct./Min.)', 'adaCustomCopy': 'For special seating needs, please check the venue information page for details. Should you require further information please call the Hotline on +49.(0)1805 - 969 0000 (14 Ct./Min.)', 'adaHours': 'Monday to Friday, 9:00-19.00; Saturday, 10.00-14.00'}, '_links': {'self': {'href': '/discovery/v2/venues/KovZpZAl111A?locale=en-de'}}}, {'name': 'Freilichtbühne Heppenheim', 'type': 'venue', 'id': 'KovZpZAl116A', 'test': False, 'url': 'http://www.ticketmaster.de/venue/290639', 'locale': 'en-de', 'postalCode': '64646', 'timezone': 'Europe/Berlin', 'city': {'name': 'Heppenheim'}, 'country': {'name': 'Germany', 'countryCode': 'DE'}, 'address': {'line1': 'Oberhalb der Stadt'}, 'markets': [{'name': 'Germany', 'id': '210'}], 'dmas': [{'id': 610}], 'upcomingEvents': {'_total': 0, '_filtered': 0}, 'ada': {'adaPhones': '+49.(0)1805 - 969 0000 (14 Ct./Min.)', 'adaCustomCopy': 'For special seating needs, please check the venue information page for details. Should you require further information please call the Hotline on +49.(0)1805 - 969 0000 (14 Ct./Min.)', 'adaHours': 'Monday to Friday, 9:00-19.00; Saturday, 10.00-14.00'}, '_links': {'self': {'href': '/discovery/v2/venues/KovZpZAl116A?locale=en-de'}}}, {'name': 'Schlosswallhalle', 'type': 'venue', 'id': 'KovZpZAl117A', 'test': False, 'url': 'http://www.ticketmaster.de/venue/290630', 'locale': 'en-de', 'postalCode': '49074', 'timezone': 'Europe/Berlin', 'city': {'name': 'Osnabrück'}, 'country': {'name': 'Germany', 'countryCode': 'DE'}, 'address': {'line1': 'Schlosswall 10'}, 'markets': [{'name': 'Germany', 'id': '210'}], 'dmas': [{'id': 610}], 'upcomingEvents': {'_total': 0, '_filtered': 0}, 'ada': {'adaPhones': '+49.(0)1805 - 969 0000 (14 Ct./Min.)', 'adaCustomCopy': 'For special seating needs, please check the venue information page for details. Should you require further information please call the Hotline on +49.(0)1805 - 969 0000 (14 Ct./Min.)', 'adaHours': 'Monday to Friday, 9:00-19.00; Saturday, 10.00-14.00'}, '_links': {'self': {'href': '/discovery/v2/venues/KovZpZAl117A?locale=en-de'}}}, {'name': 'Metropol Theater', 'type': 'venue', 'id': 'KovZpZAl11AA', 'test': False, 'url': 'http://www.ticketmaster.de/venue/290631', 'locale': 'en-de', 'postalCode': '49377', 'timezone': 'Europe/Berlin', 'city': {'name': 'Vechta'}, 'country': {'name': 'Germany', 'countryCode': 'DE'}, 'address': {'line1': 'Kolpingstrasse 27'}, 'markets': [{'name': 'Germany', 'id': '210'}], 'dmas': [{'id': 610}], 'upcomingEvents': {'_total': 0, '_filtered': 0}, 'ada': {'adaPhones': '+49.(0)1805 - 969 0000 (14 Ct./Min.)', 'adaCustomCopy': 'For special seating needs, please check the venue information page for details. Should you require further information please call the Hotline on +49.(0)1805 - 969 0000 (14 Ct./Min.)', 'adaHours': 'Monday to Friday, 9:00-19.00; Saturday, 10.00-14.00'}, '_links': {'self': {'href': '/discovery/v2/venues/KovZpZAl11AA?locale=en-de'}}}, {'name': 'RÖDERMARK - Kulturhalle', 'type': 'venue', 'id': 'KovZpZAl11EA', 'test': False, 'url': 'http://www.ticketmaster.de/venue/290649', 'locale': 'en-de', 'postalCode': '63322', 'timezone': 'Europe/Berlin', 'city': {'name': 'Rödermark'}, 'country': {'name': 'Germany', 'countryCode': 'DE'}, 'address': {'line1': 'Dieburger Strasse 27'}, 'markets': [{'name': 'Germany', 'id': '210'}], 'dmas': [{'id': 610}], 'upcomingEvents': {'_total': 0, '_filtered': 0}, 'ada': {'adaPhones': '+49.(0)1805 - 969 0000 (14 Ct./Min.)', 'adaCustomCopy': 'For special seating needs, please check the venue information page for details. Should you require further information please call the Hotline on +49.(0)1805 - 969 0000 (14 Ct./Min.)', 'adaHours': 'Monday to Friday, 9:00-19.00; Saturday, 10.00-14.00'}, '_links': {'self': {'href': '/discovery/v2/venues/KovZpZAl11EA?locale=en-de'}}}, {'name': '3922', 'type': 'venue', 'id': 'KovZpZAl11FA', 'test': False, 'url': 'http://www.ticketmaster.de/venue/290642', 'locale': 'en-de', 'postalCode': '96479', 'timezone': 'Europe/Berlin', 'city': {'name': 'Tambach'}, 'country': {'name': 'Germany', 'countryCode': 'DE'}, 'address': {'line1': 'Schlossinnenhof | Schlossallee 1'}, 'markets': [{'name': 'Germany', 'id': '210'}], 'dmas': [{'id': 610}], 'upcomingEvents': {'_total': 0, '_filtered': 0}, 'ada': {'adaPhones': '+49.(0)1805 - 969 0000 (14 Ct./Min.)', 'adaCustomCopy': 'For special seating needs, please check the venue information page for details. Should you require further information please call the Hotline on +49.(0)1805 - 969 0000 (14 Ct./Min.)', 'adaHours': 'Monday to Friday, 9:00-19.00; Saturday, 10.00-14.00'}, '_links': {'self': {'href': '/discovery/v2/venues/KovZpZAl11FA?locale=en-de'}}}, {'name': 'Nibelungenhalle', 'type': 'venue', 'id': 'KovZpZAl11IA', 'test': False, 'url': 'http://www.ticketmaster.de/venue/290653', 'locale': 'en-de', 'postalCode': '74731', 'timezone': 'Europe/Berlin', 'city': {'name': 'Walldürn'}, 'country': {'name': 'Germany', 'countryCode': 'DE'}, 'address': {'line1': 'Theodor Heuss Ring'}, 'markets': [{'name': 'Germany', 'id': '210'}], 'dmas': [{'id': 610}], 'upcomingEvents': {'_total': 0, '_filtered': 0}, 'ada': {'adaPhones': '+49.(0)1805 - 969 0000 (14 Ct./Min.)', 'adaCustomCopy': 'For special seating needs, please check the venue information page for details. Should you require further information please call the Hotline on +49.(0)1805 - 969 0000 (14 Ct./Min.)', 'adaHours': 'Monday to Friday, 9:00-19.00; Saturday, 10.00-14.00'}, '_links': {'self': {'href': '/discovery/v2/venues/KovZpZAl11IA?locale=en-de'}}}, {'name': 'St. Johannis Kirche', 'type': 'venue', 'id': 'KovZpZAl11JA', 'test': False, 'url': 'http://www.ticketmaster.de/venue/290650', 'locale': 'en-de', 'postalCode': '97070', 'timezone': 'Europe/Berlin', 'city': {'name': 'Würzburg'}, 'country': {'name': 'Germany', 'countryCode': 'DE'}, 'address': {'line1': 'Hofstallstrasse 5'}, 'markets': [{'name': 'Germany', 'id': '210'}], 'dmas': [{'id': 610}], 'upcomingEvents': {'_total': 0, '_filtered': 0}, 'ada': {'adaPhones': '+49.(0)1805 - 969 0000 (14 Ct./Min.)', 'adaCustomCopy': 'For special seating needs, please check the venue information page for details. Should you require further information please call the Hotline on +49.(0)1805 - 969 0000 (14 Ct./Min.)', 'adaHours': 'Monday to Friday, 9:00-19.00; Saturday, 10.00-14.00'}, '_links': {'self': {'href': '/discovery/v2/venues/KovZpZAl11JA?locale=en-de'}}}, {'name': 'filmkunst 66', 'type': 'venue', 'id': 'KovZpZAl11aA', 'test': False, 'url': 'http://www.ticketmaster.de/venue/290643', 'locale': 'en-de', 'postalCode': '10623', 'timezone': 'Europe/Berlin', 'city': {'name': 'Berlin'}, 'country': {'name': 'Germany', 'countryCode': 'DE'}, 'address': {'line1': 'Bleibtreustrasse 12'}, 'markets': [{'name': 'Germany', 'id': '210'}], 'dmas': [{'id': 610}], 'upcomingEvents': {'_total': 0, '_filtered': 0}, 'ada': {'adaPhones': '+49.(0)1805 - 969 0000 (14 Ct./Min.)', 'adaCustomCopy': 'For special seating needs, please check the venue information page for details. Should you require further information please call the Hotline on +49.(0)1805 - 969 0000 (14 Ct./Min.)', 'adaHours': 'Monday to Friday, 9:00-19.00; Saturday, 10.00-14.00'}, '_links': {'self': {'href': '/discovery/v2/venues/KovZpZAl11aA?locale=en-de'}}}, {'name': 'Congress Centrum (Europasaal)', 'type': 'venue', 'id': 'KovZpZAl11dA', 'test': False, 'url': 'http://www.ticketmaster.de/venue/290622', 'locale': 'en-de', 'postalCode': '71032', 'timezone': 'Europe/Berlin', 'city': {'name': 'Böblingen'}, 'country': {'name': 'Germany', 'countryCode': 'DE'}, 'address': {'line1': 'Ida Ehre Platz'}, 'markets': [{'name': 'Germany', 'id': '210'}], 'dmas': [{'id': 610}], 'upcomingEvents': {'_total': 0, '_filtered': 0}, 'ada': {'adaPhones': '+49.(0)1805 - 969 0000 (14 Ct./Min.)', 'adaCustomCopy': 'For special seating needs, please check the venue information page for details. Should you require further information please call the Hotline on +49.(0)1805 - 969 0000 (14 Ct./Min.)', 'adaHours': 'Monday to Friday, 9:00-19.00; Saturday, 10.00-14.00'}, '_links': {'self': {'href': '/discovery/v2/venues/KovZpZAl11dA?locale=en-de'}}}, {'name': 'Sauerland Theater', 'type': 'venue', 'id': 'KovZpZAl11eA', 'test': False, 'url': 'http://www.ticketmaster.de/venue/290621', 'locale': 'en-de', 'postalCode': '59821', 'timezone': 'Europe/Berlin', 'city': {'name': 'Arnsberg'}, 'country': {'name': 'Germany', 'countryCode': 'DE'}, 'address': {'line1': 'Feauxweg 9'}, 'markets': [{'name': 'Germany', 'id': '210'}], 'dmas': [{'id': 610}], 'upcomingEvents': {'_total': 0, '_filtered': 0}, 'ada': {'adaPhones': '+49.(0)1805 - 969 0000 (14 Ct./Min.)', 'adaCustomCopy': 'For special seating needs, please check the venue information page for details. Should you require further information please call the Hotline on +49.(0)1805 - 969 0000 (14 Ct./Min.)', 'adaHours': 'Monday to Friday, 9:00-19.00; Saturday, 10.00-14.00'}, '_links': {'self': {'href': '/discovery/v2/venues/KovZpZAl11eA?locale=en-de'}}}, {'name': 'Hebbel am Ufer 1', 'type': 'venue', 'id': 'KovZpZAl11kA', 'test': False, 'url': 'http://www.ticketmaster.de/venue/290635', 'locale': 'en-de', 'postalCode': '10963', 'timezone': 'Europe/Berlin', 'city': {'name': 'Berlin'}, 'country': {'name': 'Germany', 'countryCode': 'DE'}, 'address': {'line1': 'Stresemannstrasse 29'}, 'markets': [{'name': 'Germany', 'id': '210'}], 'dmas': [{'id': 610}], 'upcomingEvents': {'_total': 0, '_filtered': 0}, 'ada': {'adaPhones': '+49.(0)1805 - 969 0000 (14 Ct./Min.)', 'adaCustomCopy': 'For special seating needs, please check the venue information page for details. Should you require further information please call the Hotline on +49.(0)1805 - 969 0000 (14 Ct./Min.)', 'adaHours': 'Monday to Friday, 9:00-19.00; Saturday, 10.00-14.00'}, '_links': {'self': {'href': '/discovery/v2/venues/KovZpZAl11kA?locale=en-de'}}}, {'name': 'Roots Club', 'type': 'venue', 'id': 'KovZpZAl11lA', 'test': False, 'url': 'http://www.ticketmaster.de/venue/290659', 'locale': 'en-de', 'postalCode': '41061', 'timezone': 'Europe/Berlin', 'city': {'name': 'Mönchengladbach'}, 'country': {'name': 'Germany', 'countryCode': 'DE'}, 'address': {'line1': 'Aachener Strasse 21-23'}, 'markets': [{'name': 'Germany', 'id': '210'}], 'dmas': [{'id': 610}], 'upcomingEvents': {'_total': 0, '_filtered': 0}, 'ada': {'adaPhones': '+49.(0)1805 - 969 0000 (14 Ct./Min.)', 'adaCustomCopy': 'For special seating needs, please check the venue information page for details. Should you require further information please call the Hotline on +49.(0)1805 - 969 0000 (14 Ct./Min.)', 'adaHours': 'Monday to Friday, 9:00-19.00; Saturday, 10.00-14.00'}, '_links': {'self': {'href': '/discovery/v2/venues/KovZpZAl11lA?locale=en-de'}}}]}, '_links': {'first': {'href': '/discovery/v2/venues?countryCode=DE&page=0&size=20'}, 'self': {'href': '/discovery/v2/venues?countryCode=DE'}, 'next': {'href': '/discovery/v2/venues?countryCode=DE&page=1&size=20'}, 'last': {'href': '/discovery/v2/venues?countryCode=DE&page=237&size=20'}}, 'page': {'size': 20, 'totalElements': 4745, 'totalPages': 238, 'number': 0}}\n"
     ]
    }
   ],
   "source": [
    "# load key\n",
    "with open(\"key.txt\") as f:\n",
    "  key = f.readlines()[0]\n",
    "\n",
    "# get request to api\n",
    "APIcontent = requests.get(\"https://app.ticketmaster.com/discovery/v2/venues\",\n",
    "                           params = {\"apikey\":key, \"countryCode\":\"DE\"}).json()\n",
    "\n",
    "print(APIcontent)"
   ]
  },
  {
   "cell_type": "code",
   "execution_count": 4,
   "metadata": {},
   "outputs": [
    {
     "name": "stdout",
     "output_type": "stream",
     "text": [
      "{'size': 20, 'totalElements': 4745, 'totalPages': 238, 'number': 0}\n"
     ]
    }
   ],
   "source": [
    "print(APIcontent[\"page\"])"
   ]
  }
 ],
 "metadata": {
  "kernelspec": {
   "display_name": "Python 3 (ipykernel)",
   "language": "python",
   "name": "python3"
  },
  "language_info": {
   "codemirror_mode": {
    "name": "ipython",
    "version": 3
   },
   "file_extension": ".py",
   "mimetype": "text/x-python",
   "name": "python",
   "nbconvert_exporter": "python",
   "pygments_lexer": "ipython3",
   "version": "3.9.13"
  }
 },
 "nbformat": 4,
 "nbformat_minor": 4
}
