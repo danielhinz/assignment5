{
 "cells": [
  {
   "cell_type": "markdown",
   "metadata": {},
   "source": [
    "\n",
    "# DS400: Assignment 5 (Python)\n",
    "\n",
    "##### Daniel Hinz (Student ID: 6302371)\n",
    "##### January 25 2023"
   ]
  },
  {
   "cell_type": "markdown",
   "metadata": {},
   "source": [
    "## Preprocessing"
   ]
  },
  {
   "cell_type": "markdown",
   "metadata": {},
   "source": [
    "(1) In the folder data you will find the original images. Each image is labeled as either pizza or no pizza.\n",
    "Apply the pipeline below and export to csv."
   ]
  },
  {
   "cell_type": "code",
   "execution_count": 1,
   "metadata": {},
   "outputs": [],
   "source": [
    "# Imports\n",
    "import os\n",
    "import numpy as np\n",
    "import pandas as pd\n",
    "import requests\n",
    "import time\n",
    "\n"
   ]
  },
  {
   "cell_type": "code",
   "execution_count": 2,
   "metadata": {},
   "outputs": [],
   "source": [
    "# set directory\n",
    "os.chdir(\"D:/Dokumente/Studium/Master_DataScience/Assignment5\")"
   ]
  },
  {
   "cell_type": "code",
   "execution_count": 15,
   "metadata": {},
   "outputs": [],
   "source": [
    "# load key, note that key is safed as a local file in my directory\n",
    "with open(\"key.txt\") as f:\n",
    "  key = f.readlines()[0]\n",
    "\n",
    "# get request to api\n",
    "APIcontent = requests.get(\"https://app.ticketmaster.com/discovery/v2/venues\",\n",
    "                           params = {\"apikey\":key, \"locale\":\"*\", \"countryCode\":\"DE\"}).json()\n",
    "\n"
   ]
  },
  {
   "cell_type": "code",
   "execution_count": 7,
   "metadata": {},
   "outputs": [
    {
     "name": "stdout",
     "output_type": "stream",
     "text": [
      "{'size': 20, 'totalElements': 12934, 'totalPages': 647, 'number': 0}\n"
     ]
    }
   ],
   "source": [
    "print(APIcontent[\"page\"])"
   ]
  },
  {
   "cell_type": "code",
   "execution_count": 10,
   "metadata": {},
   "outputs": [],
   "source": [
    "# Function to query the nested dictionary which we receive from the API\n",
    "\n",
    "def query_dict(dict_, *keys):\n",
    "    \"\"\"\n",
    "    This function requires a dictionary and one or multiple keys as input. Output is the element stored behind the key or a None\n",
    "    if that element is not present\n",
    "    \"\"\"\n",
    "    \n",
    "    # for some instances we have two keys, if that is the case, query both an get the element\n",
    "    for key in keys:\n",
    "        try:\n",
    "            dict_ = dict_[key]\n",
    "        except:\n",
    "    # if that particular entry is not present return None\n",
    "            return None\n",
    "    return dict_"
   ]
  },
  {
   "cell_type": "code",
   "execution_count": 11,
   "metadata": {},
   "outputs": [],
   "source": [
    "# Define output Dataframe with columns that we would like to extract\n",
    "venues = pd.DataFrame(columns = [\"name\", \"city\", \"postalCode\", \"address\", \"url\", \"longitude\", \"latitude\"])\n",
    "\n",
    "for i in APIcontent[\"_embedded\"][\"venues\"]:\n",
    "    \n",
    "    objects = []\n",
    "    \n",
    "    objects.append(query_dict(i,\"name\"))\n",
    "    objects.append(query_dict(i,\"city\",\"name\"))\n",
    "    objects.append(query_dict(i,\"postalCode\"))\n",
    "    objects.append(query_dict(i,\"address\",\"line1\"))\n",
    "    objects.append(query_dict(i,\"url\"))\n",
    "    objects.append(query_dict(i,\"location\",\"longitude\"))\n",
    "    objects.append(query_dict(i,\"location\",\"latitude\"))\n",
    "\n",
    "    \n",
    "    venues.loc[len(venues)] = objects"
   ]
  },
  {
   "cell_type": "code",
   "execution_count": 12,
   "metadata": {
    "scrolled": true
   },
   "outputs": [
    {
     "data": {
      "text/html": [
       "<div>\n",
       "<style scoped>\n",
       "    .dataframe tbody tr th:only-of-type {\n",
       "        vertical-align: middle;\n",
       "    }\n",
       "\n",
       "    .dataframe tbody tr th {\n",
       "        vertical-align: top;\n",
       "    }\n",
       "\n",
       "    .dataframe thead th {\n",
       "        text-align: right;\n",
       "    }\n",
       "</style>\n",
       "<table border=\"1\" class=\"dataframe\">\n",
       "  <thead>\n",
       "    <tr style=\"text-align: right;\">\n",
       "      <th></th>\n",
       "      <th>name</th>\n",
       "      <th>city</th>\n",
       "      <th>postalCode</th>\n",
       "      <th>address</th>\n",
       "      <th>url</th>\n",
       "      <th>longitude</th>\n",
       "      <th>latitude</th>\n",
       "    </tr>\n",
       "  </thead>\n",
       "  <tbody>\n",
       "    <tr>\n",
       "      <th>0</th>\n",
       "      <td>Grosse Freiheit 36</td>\n",
       "      <td>Hamburg</td>\n",
       "      <td>22767</td>\n",
       "      <td>Grosse Freiheit 36</td>\n",
       "      <td>http://www.ticketmaster.de/venue/287636</td>\n",
       "      <td>9.957905</td>\n",
       "      <td>53.551187</td>\n",
       "    </tr>\n",
       "    <tr>\n",
       "      <th>1</th>\n",
       "      <td>Gruenspan</td>\n",
       "      <td>Hamburg</td>\n",
       "      <td>22767</td>\n",
       "      <td>Grosse Freiheit 58</td>\n",
       "      <td>http://www.ticketmaster.de/venue/287155</td>\n",
       "      <td>9.958075</td>\n",
       "      <td>53.551885</td>\n",
       "    </tr>\n",
       "    <tr>\n",
       "      <th>2</th>\n",
       "      <td>Huxleys Neue Welt</td>\n",
       "      <td>Berlin</td>\n",
       "      <td>10967</td>\n",
       "      <td>Hasenheide 107 – 113</td>\n",
       "      <td>http://www.ticketmaster.de/venue/286842</td>\n",
       "      <td>13.42138</td>\n",
       "      <td>52.486391</td>\n",
       "    </tr>\n",
       "    <tr>\n",
       "      <th>3</th>\n",
       "      <td>Zentrum am Park</td>\n",
       "      <td>Emmelshausen</td>\n",
       "      <td>56281</td>\n",
       "      <td>Rhein-Mosel-Straße 45</td>\n",
       "      <td>https://www.ticketmaster.de/venue/zentrum-am-p...</td>\n",
       "      <td>7.55656</td>\n",
       "      <td>50.15544</td>\n",
       "    </tr>\n",
       "    <tr>\n",
       "      <th>4</th>\n",
       "      <td>Stadthalle (Theatersaal)</td>\n",
       "      <td>Mülheim</td>\n",
       "      <td>45479</td>\n",
       "      <td>Theodor-Heuss-Platz 1</td>\n",
       "      <td>https://www.ticketmaster.de/venue/stadthalle-t...</td>\n",
       "      <td>6.87471</td>\n",
       "      <td>51.42778</td>\n",
       "    </tr>\n",
       "  </tbody>\n",
       "</table>\n",
       "</div>"
      ],
      "text/plain": [
       "                       name          city postalCode                address  \\\n",
       "0        Grosse Freiheit 36       Hamburg      22767     Grosse Freiheit 36   \n",
       "1                 Gruenspan       Hamburg      22767     Grosse Freiheit 58   \n",
       "2         Huxleys Neue Welt        Berlin      10967   Hasenheide 107 – 113   \n",
       "3           Zentrum am Park  Emmelshausen      56281  Rhein-Mosel-Straße 45   \n",
       "4  Stadthalle (Theatersaal)       Mülheim      45479  Theodor-Heuss-Platz 1   \n",
       "\n",
       "                                                 url longitude   latitude  \n",
       "0            http://www.ticketmaster.de/venue/287636  9.957905  53.551187  \n",
       "1            http://www.ticketmaster.de/venue/287155  9.958075  53.551885  \n",
       "2            http://www.ticketmaster.de/venue/286842  13.42138  52.486391  \n",
       "3  https://www.ticketmaster.de/venue/zentrum-am-p...   7.55656   50.15544  \n",
       "4  https://www.ticketmaster.de/venue/stadthalle-t...   6.87471   51.42778  "
      ]
     },
     "execution_count": 12,
     "metadata": {},
     "output_type": "execute_result"
    }
   ],
   "source": [
    "venues.head()"
   ]
  },
  {
   "cell_type": "markdown",
   "metadata": {},
   "source": [
    "### Interacting with the API advanced\n",
    "We 647 pages with 20 elements each. By setting the element size to 500, we need 26 pages to query"
   ]
  },
  {
   "cell_type": "code",
   "execution_count": 16,
   "metadata": {},
   "outputs": [
    {
     "data": {
      "text/html": [
       "<div>\n",
       "<style scoped>\n",
       "    .dataframe tbody tr th:only-of-type {\n",
       "        vertical-align: middle;\n",
       "    }\n",
       "\n",
       "    .dataframe tbody tr th {\n",
       "        vertical-align: top;\n",
       "    }\n",
       "\n",
       "    .dataframe thead th {\n",
       "        text-align: right;\n",
       "    }\n",
       "</style>\n",
       "<table border=\"1\" class=\"dataframe\">\n",
       "  <thead>\n",
       "    <tr style=\"text-align: right;\">\n",
       "      <th></th>\n",
       "      <th>name</th>\n",
       "      <th>city</th>\n",
       "      <th>postalCode</th>\n",
       "      <th>address</th>\n",
       "      <th>url</th>\n",
       "      <th>longitude</th>\n",
       "      <th>latitude</th>\n",
       "    </tr>\n",
       "  </thead>\n",
       "  <tbody>\n",
       "    <tr>\n",
       "      <th>0</th>\n",
       "      <td>Grosse Freiheit 36</td>\n",
       "      <td>Hamburg</td>\n",
       "      <td>22767</td>\n",
       "      <td>Grosse Freiheit 36</td>\n",
       "      <td>http://www.ticketmaster.de/venue/287636</td>\n",
       "      <td>9.957905</td>\n",
       "      <td>53.551187</td>\n",
       "    </tr>\n",
       "    <tr>\n",
       "      <th>1</th>\n",
       "      <td>Gruenspan</td>\n",
       "      <td>Hamburg</td>\n",
       "      <td>22767</td>\n",
       "      <td>Grosse Freiheit 58</td>\n",
       "      <td>http://www.ticketmaster.de/venue/287155</td>\n",
       "      <td>9.958075</td>\n",
       "      <td>53.551885</td>\n",
       "    </tr>\n",
       "    <tr>\n",
       "      <th>2</th>\n",
       "      <td>Huxleys Neue Welt</td>\n",
       "      <td>Berlin</td>\n",
       "      <td>10967</td>\n",
       "      <td>Hasenheide 107 – 113</td>\n",
       "      <td>http://www.ticketmaster.de/venue/286842</td>\n",
       "      <td>13.42138</td>\n",
       "      <td>52.486391</td>\n",
       "    </tr>\n",
       "    <tr>\n",
       "      <th>3</th>\n",
       "      <td>Zentrum am Park</td>\n",
       "      <td>Emmelshausen</td>\n",
       "      <td>56281</td>\n",
       "      <td>Rhein-Mosel-Straße 45</td>\n",
       "      <td>https://www.ticketmaster.de/venue/zentrum-am-p...</td>\n",
       "      <td>7.55656</td>\n",
       "      <td>50.15544</td>\n",
       "    </tr>\n",
       "    <tr>\n",
       "      <th>4</th>\n",
       "      <td>Stadthalle (Theatersaal)</td>\n",
       "      <td>Mülheim</td>\n",
       "      <td>45479</td>\n",
       "      <td>Theodor-Heuss-Platz 1</td>\n",
       "      <td>https://www.ticketmaster.de/venue/stadthalle-t...</td>\n",
       "      <td>6.87471</td>\n",
       "      <td>51.42778</td>\n",
       "    </tr>\n",
       "    <tr>\n",
       "      <th>5</th>\n",
       "      <td>Schlossgarten</td>\n",
       "      <td>Bruchsal</td>\n",
       "      <td>76646</td>\n",
       "      <td>Schloss Bruchsal</td>\n",
       "      <td>https://www.ticketmaster.de/venue/schlossgarte...</td>\n",
       "      <td>8.59908</td>\n",
       "      <td>49.12692</td>\n",
       "    </tr>\n",
       "    <tr>\n",
       "      <th>6</th>\n",
       "      <td>Stadthalle</td>\n",
       "      <td>Hockenheim</td>\n",
       "      <td>68766</td>\n",
       "      <td>Rathausstraße 3</td>\n",
       "      <td>https://www.ticketmaster.de/venue/stadthalle-h...</td>\n",
       "      <td>8.54908</td>\n",
       "      <td>49.31849</td>\n",
       "    </tr>\n",
       "    <tr>\n",
       "      <th>7</th>\n",
       "      <td>FZW</td>\n",
       "      <td>Dortmund</td>\n",
       "      <td>44263</td>\n",
       "      <td>Ritterstraße 20</td>\n",
       "      <td>https://www.ticketmaster.de/venue/fzw-dortmund...</td>\n",
       "      <td>7.4501</td>\n",
       "      <td>51.51481</td>\n",
       "    </tr>\n",
       "    <tr>\n",
       "      <th>8</th>\n",
       "      <td>Arena Trier</td>\n",
       "      <td>Trier</td>\n",
       "      <td>54292</td>\n",
       "      <td>Fort-Worth-Platz 1</td>\n",
       "      <td>https://www.ticketmaster.de/venue/arena-trier-...</td>\n",
       "      <td>6.66426</td>\n",
       "      <td>49.77183</td>\n",
       "    </tr>\n",
       "    <tr>\n",
       "      <th>9</th>\n",
       "      <td>Eissporthalle</td>\n",
       "      <td>Memmingen</td>\n",
       "      <td>87700</td>\n",
       "      <td>Hühnerbergstraße 19</td>\n",
       "      <td>https://www.ticketmaster.de/venue/eissporthall...</td>\n",
       "      <td>10.16293</td>\n",
       "      <td>47.97999</td>\n",
       "    </tr>\n",
       "  </tbody>\n",
       "</table>\n",
       "</div>"
      ],
      "text/plain": [
       "                       name          city postalCode                address  \\\n",
       "0        Grosse Freiheit 36       Hamburg      22767     Grosse Freiheit 36   \n",
       "1                 Gruenspan       Hamburg      22767     Grosse Freiheit 58   \n",
       "2         Huxleys Neue Welt        Berlin      10967   Hasenheide 107 – 113   \n",
       "3           Zentrum am Park  Emmelshausen      56281  Rhein-Mosel-Straße 45   \n",
       "4  Stadthalle (Theatersaal)       Mülheim      45479  Theodor-Heuss-Platz 1   \n",
       "5             Schlossgarten      Bruchsal      76646       Schloss Bruchsal   \n",
       "6                Stadthalle    Hockenheim      68766        Rathausstraße 3   \n",
       "7                       FZW      Dortmund      44263        Ritterstraße 20   \n",
       "8               Arena Trier         Trier      54292     Fort-Worth-Platz 1   \n",
       "9             Eissporthalle     Memmingen      87700    Hühnerbergstraße 19   \n",
       "\n",
       "                                                 url longitude   latitude  \n",
       "0            http://www.ticketmaster.de/venue/287636  9.957905  53.551187  \n",
       "1            http://www.ticketmaster.de/venue/287155  9.958075  53.551885  \n",
       "2            http://www.ticketmaster.de/venue/286842  13.42138  52.486391  \n",
       "3  https://www.ticketmaster.de/venue/zentrum-am-p...   7.55656   50.15544  \n",
       "4  https://www.ticketmaster.de/venue/stadthalle-t...   6.87471   51.42778  \n",
       "5  https://www.ticketmaster.de/venue/schlossgarte...   8.59908   49.12692  \n",
       "6  https://www.ticketmaster.de/venue/stadthalle-h...   8.54908   49.31849  \n",
       "7  https://www.ticketmaster.de/venue/fzw-dortmund...    7.4501   51.51481  \n",
       "8  https://www.ticketmaster.de/venue/arena-trier-...   6.66426   49.77183  \n",
       "9  https://www.ticketmaster.de/venue/eissporthall...  10.16293   47.97999  "
      ]
     },
     "execution_count": 16,
     "metadata": {},
     "output_type": "execute_result"
    }
   ],
   "source": [
    "# initiate output dataframe\n",
    "venues_all = pd.DataFrame(columns = [\"name\", \"city\", \"postalCode\", \"address\", \"url\", \"longitude\", \"latitude\"])\n",
    "\n",
    "# loop over all 26 pages\n",
    "for page in range(26):\n",
    "    APIcontent = requests.get(\"https://app.ticketmaster.com/discovery/v2/venues\",\n",
    "                               params = {\"apikey\":key, \"locale\":\"*\",\"countryCode\":\"DE\", \"page\":page, \"size\":500}).json()\n",
    "    \n",
    "    # wait for 2 seconds before the next request\n",
    "    time.sleep(1) \n",
    "    # some random pages produce errors. Maybe its because we are using the same public key, the query limit is reached.\n",
    "    # if an error occurs, we wait some seconds and try again\n",
    "    try:\n",
    "       \tfor i in APIcontent[\"_embedded\"][\"venues\"]:\n",
    "               \n",
    "                # initiate empty list\n",
    "               objects = []\n",
    "               \n",
    "                # add each entry to the list\n",
    "               objects.append(query_dict(i,\"name\"))\n",
    "               objects.append(query_dict(i,\"city\",\"name\"))\n",
    "               objects.append(query_dict(i,\"postalCode\"))\n",
    "               objects.append(query_dict(i,\"address\",\"line1\"))\n",
    "               objects.append(query_dict(i,\"url\"))\n",
    "               objects.append(query_dict(i,\"location\",\"longitude\"))\n",
    "               objects.append(query_dict(i,\"location\",\"latitude\"))\n",
    "               \n",
    "                # append list as new row in dataframe\n",
    "               venues_all.loc[len(venues_all)] = objects\n",
    "\n",
    "    except:\n",
    "        # if we get an error from the api, wait 1 seconds and try again\n",
    "        time.sleep(1) \n",
    "        page = page-1\n",
    "        print(\"error at:\", page)\n",
    "        \n",
    "venues_all.head(n=10)"
   ]
  },
  {
   "cell_type": "code",
   "execution_count": 17,
   "metadata": {},
   "outputs": [
    {
     "data": {
      "text/plain": [
       "(12934, 7)"
      ]
     },
     "execution_count": 17,
     "metadata": {},
     "output_type": "execute_result"
    }
   ],
   "source": [
    "venues_all.shape"
   ]
  },
  {
   "cell_type": "markdown",
   "metadata": {},
   "source": [
    "### Visualizing the extracted data"
   ]
  },
  {
   "cell_type": "code",
   "execution_count": 18,
   "metadata": {},
   "outputs": [],
   "source": [
    "import geopandas as gpd\n",
    "import matplotlib.pyplot as plt"
   ]
  },
  {
   "cell_type": "code",
   "execution_count": 19,
   "metadata": {},
   "outputs": [],
   "source": [
    "# drop all rows with NA in longitude and latitude as we cannot plot missing coordinates\n",
    "venues_all.dropna(axis = 0, subset = [\"longitude\", \"latitude\"], inplace=True)\n",
    "\n",
    "# transform to float\n",
    "venues_all[\"longitude\"] = venues_all[\"longitude\"].apply(lambda x: float(x))\n",
    "venues_all[\"latitude\"] = venues_all[\"latitude\"].apply(lambda x: float(x))"
   ]
  },
  {
   "cell_type": "code",
   "execution_count": 20,
   "metadata": {},
   "outputs": [
    {
     "data": {
      "text/plain": [
       "<AxesSubplot:>"
      ]
     },
     "execution_count": 20,
     "metadata": {},
     "output_type": "execute_result"
    },
    {
     "data": {
      "text/plain": [
       "<Figure size 640x480 with 0 Axes>"
      ]
     },
     "metadata": {},
     "output_type": "display_data"
    },
    {
     "data": {
      "image/png": "[encoded data removed]",
      "text/plain": [
       "<Figure size 640x480 with 1 Axes>"
      ]
     },
     "metadata": {},
     "output_type": "display_data"
    }
   ],
   "source": [
    "# we have to transform the coordinates to a geodataframe\n",
    "gdf = gpd.GeoDataFrame(venues_all,\n",
    "                       geometry=gpd.points_from_xy(venues_all.longitude, venues_all.latitude))\n",
    "\n",
    "\n",
    "# load map\n",
    "map = gpd.read_file(gpd.datasets.get_path(\"naturalearth_lowres\"))\n",
    "\n",
    "# plot points in Germany\n",
    "plt.figure(1)\n",
    "ax = map[map.name == \"Germany\"].plot()\n",
    "gdf.plot(ax=ax, color = \"red\")"
   ]
  },
  {
   "cell_type": "markdown",
   "metadata": {},
   "source": [
    "The visualization is kind of nonsense because there are some coordinates outside of Germany. So lets remove outlier points"
   ]
  },
  {
   "cell_type": "code",
   "execution_count": 21,
   "metadata": {},
   "outputs": [
    {
     "data": {
      "text/plain": [
       "<AxesSubplot:>"
      ]
     },
     "execution_count": 21,
     "metadata": {},
     "output_type": "execute_result"
    },
    {
     "data": {
      "text/plain": [
       "<Figure size 640x480 with 0 Axes>"
      ]
     },
     "metadata": {},
     "output_type": "display_data"
    },
    {
     "data": {
      "image/png": "[encoded data removed]",
      "text/plain": [
       "<Figure size 640x480 with 1 Axes>"
      ]
     },
     "metadata": {},
     "output_type": "display_data"
    }
   ],
   "source": [
    "# keep venues inside Germany\n",
    "gdf = gdf[(gdf[\"longitude\"] > 5.866) & (gdf[\"longitude\"] < 15.042)]\n",
    "gdf = gdf[(gdf[\"latitude\"] > 47.270) & (gdf[\"latitude\"] < 55.059)]\n",
    "\n",
    "# plot again\n",
    "plt.figure(2)\n",
    "ax = map[map.name == \"Germany\"].plot()\n",
    "gdf.plot(ax=ax, color = \"red\")\n",
    "\n"
   ]
  },
  {
   "cell_type": "markdown",
   "metadata": {},
   "source": [
    "looks better"
   ]
  },
  {
   "cell_type": "markdown",
   "metadata": {},
   "source": [
    "### Event locations in other countries"
   ]
  },
  {
   "cell_type": "code",
   "execution_count": 22,
   "metadata": {},
   "outputs": [],
   "source": [
    "# lets pick Italy\n",
    "\n",
    "\n",
    "# initiate output dataframe\n",
    "venues_it = pd.DataFrame(columns = [\"name\", \"city\", \"postalCode\", \"address\", \"url\", \"longitude\", \"latitude\"])\n",
    "\n",
    "# load api, no loop required only 300 venues exists\n",
    "APIcontent = requests.get(\"https://app.ticketmaster.com/discovery/v2/venues\",\n",
    "                           params = {\"apikey\":key,  \"locale\":\"*\", \"countryCode\":\"IT\", \"size\":300}).json()\n",
    "\n",
    "try:\n",
    "   \tfor i in APIcontent[\"_embedded\"][\"venues\"]:\n",
    "           \n",
    "            # initiate list\n",
    "           objects = []\n",
    "           \n",
    "            # append each entry to list\n",
    "           objects.append(query_dict(i,\"name\"))\n",
    "           objects.append(query_dict(i,\"city\",\"name\"))\n",
    "           objects.append(query_dict(i,\"postalCode\"))\n",
    "           objects.append(query_dict(i,\"address\",\"line1\"))\n",
    "           objects.append(query_dict(i,\"url\"))\n",
    "           objects.append(query_dict(i,\"location\",\"longitude\"))\n",
    "           objects.append(query_dict(i,\"location\",\"latitude\"))\n",
    "           \n",
    "            # append list as new row to dataframe\n",
    "           venues_it.loc[len(venues_it)] = objects\n",
    "\n",
    "except:\n",
    "    # if we get an error from the api, wait 2 seconds and try again\n",
    "    time.sleep(1) \n",
    "    page = page-1\n",
    "    print(\"error at:\", page)"
   ]
  },
  {
   "cell_type": "code",
   "execution_count": 23,
   "metadata": {},
   "outputs": [
    {
     "data": {
      "text/html": [
       "<div>\n",
       "<style scoped>\n",
       "    .dataframe tbody tr th:only-of-type {\n",
       "        vertical-align: middle;\n",
       "    }\n",
       "\n",
       "    .dataframe tbody tr th {\n",
       "        vertical-align: top;\n",
       "    }\n",
       "\n",
       "    .dataframe thead th {\n",
       "        text-align: right;\n",
       "    }\n",
       "</style>\n",
       "<table border=\"1\" class=\"dataframe\">\n",
       "  <thead>\n",
       "    <tr style=\"text-align: right;\">\n",
       "      <th></th>\n",
       "      <th>name</th>\n",
       "      <th>city</th>\n",
       "      <th>postalCode</th>\n",
       "      <th>address</th>\n",
       "      <th>url</th>\n",
       "      <th>longitude</th>\n",
       "      <th>latitude</th>\n",
       "    </tr>\n",
       "  </thead>\n",
       "  <tbody>\n",
       "    <tr>\n",
       "      <th>0</th>\n",
       "      <td>Live Club</td>\n",
       "      <td>Milan</td>\n",
       "      <td>20056</td>\n",
       "      <td>Via Giuseppe Mazzini, 58</td>\n",
       "      <td>None</td>\n",
       "      <td>9.5169274</td>\n",
       "      <td>45.5990796</td>\n",
       "    </tr>\n",
       "    <tr>\n",
       "      <th>1</th>\n",
       "      <td>ITALY</td>\n",
       "      <td>Gardone Riviera</td>\n",
       "      <td>25083</td>\n",
       "      <td>Corso Zanardelli, 196</td>\n",
       "      <td>https://www.ticketmaster.be/venue/italy-gardon...</td>\n",
       "      <td>None</td>\n",
       "      <td>None</td>\n",
       "    </tr>\n",
       "    <tr>\n",
       "      <th>2</th>\n",
       "      <td>ITALY</td>\n",
       "      <td>Rubano</td>\n",
       "      <td>35030</td>\n",
       "      <td>via Liguria 1  Sarmeola di Rubano</td>\n",
       "      <td>https://www.ticketmaster.be/venue/italy-rubano...</td>\n",
       "      <td>11.809616</td>\n",
       "      <td>45.421793</td>\n",
       "    </tr>\n",
       "    <tr>\n",
       "      <th>3</th>\n",
       "      <td>ITALY</td>\n",
       "      <td>Rome</td>\n",
       "      <td>00187</td>\n",
       "      <td>Via del babuino 9</td>\n",
       "      <td>https://www.ticketmaster.be/venue/italy-rome-t...</td>\n",
       "      <td>12.477795</td>\n",
       "      <td>41.910066</td>\n",
       "    </tr>\n",
       "    <tr>\n",
       "      <th>4</th>\n",
       "      <td>ITALY</td>\n",
       "      <td>Modena</td>\n",
       "      <td>41121</td>\n",
       "      <td>Via Stella 22</td>\n",
       "      <td>https://www.ticketmaster.be/venue/italy-modena...</td>\n",
       "      <td>10.921577</td>\n",
       "      <td>44.644832</td>\n",
       "    </tr>\n",
       "  </tbody>\n",
       "</table>\n",
       "</div>"
      ],
      "text/plain": [
       "        name             city postalCode                            address  \\\n",
       "0  Live Club            Milan      20056           Via Giuseppe Mazzini, 58   \n",
       "1      ITALY  Gardone Riviera      25083              Corso Zanardelli, 196   \n",
       "2      ITALY           Rubano      35030  via Liguria 1  Sarmeola di Rubano   \n",
       "3      ITALY             Rome      00187                  Via del babuino 9   \n",
       "4      ITALY           Modena      41121                      Via Stella 22   \n",
       "\n",
       "                                                 url  longitude    latitude  \n",
       "0                                               None  9.5169274  45.5990796  \n",
       "1  https://www.ticketmaster.be/venue/italy-gardon...       None        None  \n",
       "2  https://www.ticketmaster.be/venue/italy-rubano...  11.809616   45.421793  \n",
       "3  https://www.ticketmaster.be/venue/italy-rome-t...  12.477795   41.910066  \n",
       "4  https://www.ticketmaster.be/venue/italy-modena...  10.921577   44.644832  "
      ]
     },
     "execution_count": 23,
     "metadata": {},
     "output_type": "execute_result"
    }
   ],
   "source": [
    "venues_it.head()"
   ]
  },
  {
   "cell_type": "code",
   "execution_count": 24,
   "metadata": {},
   "outputs": [
    {
     "data": {
      "text/plain": [
       "(300, 7)"
      ]
     },
     "execution_count": 24,
     "metadata": {},
     "output_type": "execute_result"
    }
   ],
   "source": [
    "venues_it.shape"
   ]
  },
  {
   "cell_type": "markdown",
   "metadata": {},
   "source": [
    "## Visualize Italy"
   ]
  },
  {
   "cell_type": "code",
   "execution_count": 25,
   "metadata": {},
   "outputs": [],
   "source": [
    "# remove rows without coordinates\n",
    "venues_it.dropna(axis = 0, subset = [\"longitude\", \"latitude\"], inplace=True)\n",
    "\n",
    "# change datatype to float\n",
    "venues_it[\"longitude\"] = venues_it[\"longitude\"].apply(lambda x: float(x))\n",
    "venues_it[\"latitude\"] = venues_it[\"latitude\"].apply(lambda x: float(x))"
   ]
  },
  {
   "cell_type": "code",
   "execution_count": 26,
   "metadata": {},
   "outputs": [
    {
     "data": {
      "text/plain": [
       "<AxesSubplot:>"
      ]
     },
     "execution_count": 26,
     "metadata": {},
     "output_type": "execute_result"
    },
    {
     "data": {
      "text/plain": [
       "<Figure size 640x480 with 0 Axes>"
      ]
     },
     "metadata": {},
     "output_type": "display_data"
    },
    {
     "data": {
      "image/png": "[encoded data removed]",
      "text/plain": [
       "<Figure size 640x480 with 1 Axes>"
      ]
     },
     "metadata": {},
     "output_type": "display_data"
    }
   ],
   "source": [
    "# initiate geodataframe\n",
    "gdf_it = gpd.GeoDataFrame(venues_it,\n",
    "                          geometry=gpd.points_from_xy(venues_it.longitude, venues_it.latitude))\n",
    "\n",
    "# load map\n",
    "map = gpd.read_file(gpd.datasets.get_path(\"naturalearth_lowres\"))\n",
    "\n",
    "# plot coordinates on italy map\n",
    "plt.figure(3)\n",
    "ax = map[map.name == \"Italy\"].plot()\n",
    "gdf_it.plot(ax=ax, color = \"red\")\n"
   ]
  },
  {
   "cell_type": "markdown",
   "metadata": {},
   "source": [
    "again we can spot outliers at (0,0). Lets remove them"
   ]
  },
  {
   "cell_type": "code",
   "execution_count": 27,
   "metadata": {},
   "outputs": [
    {
     "data": {
      "text/plain": [
       "<AxesSubplot:>"
      ]
     },
     "execution_count": 27,
     "metadata": {},
     "output_type": "execute_result"
    },
    {
     "data": {
      "text/plain": [
       "<Figure size 640x480 with 0 Axes>"
      ]
     },
     "metadata": {},
     "output_type": "display_data"
    },
    {
     "data": {
      "image/png": "[encoded data removed]",
      "text/plain": [
       "<Figure size 640x480 with 1 Axes>"
      ]
     },
     "metadata": {},
     "output_type": "display_data"
    }
   ],
   "source": [
    "# remove outliers\n",
    "gdf_it = gdf_it[gdf_it[\"longitude\"] > 0]\n",
    "gdf_it = gdf_it[gdf_it[\"latitude\"] > 0]\n",
    "\n",
    "plt.figure(4)\n",
    "ax = map[map.name == \"Italy\"].plot()\n",
    "gdf_it.plot(ax=ax, color = \"red\")"
   ]
  },
  {
   "cell_type": "markdown",
   "metadata": {},
   "source": [
    "No need to filter by extreme country bounds because the outliers only appear at (0,0)"
   ]
  }
 ],
 "metadata": {
  "kernelspec": {
   "display_name": "Python 3 (ipykernel)",
   "language": "python",
   "name": "python3"
  },
  "language_info": {
   "codemirror_mode": {
    "name": "ipython",
    "version": 3
   },
   "file_extension": ".py",
   "mimetype": "text/x-python",
   "name": "python",
   "nbconvert_exporter": "python",
   "pygments_lexer": "ipython3",
   "version": "3.9.13"
  }
 },
 "nbformat": 4,
 "nbformat_minor": 4
}
